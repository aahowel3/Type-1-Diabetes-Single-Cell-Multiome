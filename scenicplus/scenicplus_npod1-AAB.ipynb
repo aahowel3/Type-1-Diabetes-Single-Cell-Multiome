{
 "cells": [
  {
   "cell_type": "code",
   "execution_count": 1,
   "id": "c609bd52-a0d3-4dee-b1e5-d9a0418ba335",
   "metadata": {},
   "outputs": [],
   "source": [
    "#step 1 https://pycistopic.readthedocs.io/en/latest/notebooks/human_cerebellum.html#\n",
    "#maybe its the multiplexed data - why not try one multiome sample from NPOD1\n",
    "#/nfs/lab/projects/nPOD/cellranger_output/Multiome/MM_660/outs\n",
    "import os\n",
    "os.chdir(\"/tscc/projects/ps-gaultonlab/projects/npod1/cellranger_output/Multiome/AAB/\")"
   ]
  },
  {
   "cell_type": "code",
   "execution_count": 2,
   "id": "a57b2355-148f-44a6-9d01-9ce25cf73106",
   "metadata": {},
   "outputs": [
    {
     "data": {
      "text/plain": [
       "'2.0a0'"
      ]
     },
     "execution_count": 2,
     "metadata": {},
     "output_type": "execute_result"
    }
   ],
   "source": [
    "import pycisTopic\n",
    "pycisTopic.__version__"
   ]
  },
  {
   "cell_type": "code",
   "execution_count": 3,
   "id": "bb2ed6a4-f1cc-4a95-af3e-58ab858e08cb",
   "metadata": {},
   "outputs": [],
   "source": [
    "import os\n",
    "out_dir = \"outs\"\n",
    "os.makedirs(out_dir, exist_ok = True)"
   ]
  },
  {
   "cell_type": "code",
   "execution_count": 4,
   "id": "3303bd0d-2098-4cee-a27d-95957ee0b516",
   "metadata": {},
   "outputs": [],
   "source": [
    "fragments_dict = {\n",
    "    \"MM_667\": \"/tscc/projects/ps-gaultonlab/projects/npod1/cellranger_output/Multiome/MM_667/outs/atac_fragments.tsv.gz\"\n",
    "}"
   ]
  },
  {
   "cell_type": "code",
   "execution_count": 5,
   "id": "96295e0a-9fc5-453c-864c-8df429012476",
   "metadata": {
    "scrolled": true
   },
   "outputs": [
    {
     "data": {
      "text/html": [
       "<div>\n",
       "<style scoped>\n",
       "    .dataframe tbody tr th:only-of-type {\n",
       "        vertical-align: middle;\n",
       "    }\n",
       "\n",
       "    .dataframe tbody tr th {\n",
       "        vertical-align: top;\n",
       "    }\n",
       "\n",
       "    .dataframe thead th {\n",
       "        text-align: right;\n",
       "    }\n",
       "</style>\n",
       "<table border=\"1\" class=\"dataframe\">\n",
       "  <thead>\n",
       "    <tr style=\"text-align: right;\">\n",
       "      <th></th>\n",
       "      <th>orig.ident</th>\n",
       "      <th>nCount_RNA</th>\n",
       "      <th>nFeature_RNA</th>\n",
       "      <th>percent.mt</th>\n",
       "      <th>RNA_snn_res.1</th>\n",
       "      <th>seurat_clusters</th>\n",
       "      <th>samples</th>\n",
       "      <th>sex</th>\n",
       "      <th>condition</th>\n",
       "      <th>RNA_snn_res.0.5</th>\n",
       "      <th>...</th>\n",
       "      <th>SeuratClusters</th>\n",
       "      <th>celltype_assignment2</th>\n",
       "      <th>barcode</th>\n",
       "      <th>nPOD_barcode</th>\n",
       "      <th>CurrentObjLabels</th>\n",
       "      <th>nPOD_ID</th>\n",
       "      <th>technology</th>\n",
       "      <th>nCount_RAW_mtx</th>\n",
       "      <th>nFeature_RAW_mtx</th>\n",
       "      <th>barcode2</th>\n",
       "    </tr>\n",
       "  </thead>\n",
       "  <tbody>\n",
       "    <tr>\n",
       "      <th>AAACAGCCAATGAATG-1-MM_667</th>\n",
       "      <td>SeuratProject</td>\n",
       "      <td>4690</td>\n",
       "      <td>1862</td>\n",
       "      <td>0.0</td>\n",
       "      <td>7</td>\n",
       "      <td>4</td>\n",
       "      <td>MM_667</td>\n",
       "      <td>F</td>\n",
       "      <td>Aab</td>\n",
       "      <td>4</td>\n",
       "      <td>...</td>\n",
       "      <td>4_1</td>\n",
       "      <td>Ductal</td>\n",
       "      <td>AAACAGCCAATGAATG-1</td>\n",
       "      <td>MM_667_AAACAGCCAATGAATG</td>\n",
       "      <td>Ductal</td>\n",
       "      <td>multi_6267</td>\n",
       "      <td>multiome</td>\n",
       "      <td>5948</td>\n",
       "      <td>2507</td>\n",
       "      <td>AAACAGCCAATGAATG-1-MM_667</td>\n",
       "    </tr>\n",
       "    <tr>\n",
       "      <th>AAACAGCCAATTTGGT-1-MM_667</th>\n",
       "      <td>SeuratProject</td>\n",
       "      <td>1481</td>\n",
       "      <td>964</td>\n",
       "      <td>0.0</td>\n",
       "      <td>3</td>\n",
       "      <td>1</td>\n",
       "      <td>MM_667</td>\n",
       "      <td>F</td>\n",
       "      <td>Aab</td>\n",
       "      <td>1</td>\n",
       "      <td>...</td>\n",
       "      <td>1</td>\n",
       "      <td>Acinar</td>\n",
       "      <td>AAACAGCCAATTTGGT-1</td>\n",
       "      <td>MM_667_AAACAGCCAATTTGGT</td>\n",
       "      <td>Acinar1_2_6</td>\n",
       "      <td>multi_6267</td>\n",
       "      <td>multiome</td>\n",
       "      <td>1888</td>\n",
       "      <td>1241</td>\n",
       "      <td>AAACAGCCAATTTGGT-1-MM_667</td>\n",
       "    </tr>\n",
       "    <tr>\n",
       "      <th>AAACAGCCACAAAGCG-1-MM_667</th>\n",
       "      <td>SeuratProject</td>\n",
       "      <td>4417</td>\n",
       "      <td>2044</td>\n",
       "      <td>0.0</td>\n",
       "      <td>8</td>\n",
       "      <td>2</td>\n",
       "      <td>MM_667</td>\n",
       "      <td>F</td>\n",
       "      <td>Aab</td>\n",
       "      <td>2</td>\n",
       "      <td>...</td>\n",
       "      <td>2</td>\n",
       "      <td>Acinar</td>\n",
       "      <td>AAACAGCCACAAAGCG-1</td>\n",
       "      <td>MM_667_AAACAGCCACAAAGCG</td>\n",
       "      <td>Acinar1_2_6</td>\n",
       "      <td>multi_6267</td>\n",
       "      <td>multiome</td>\n",
       "      <td>5367</td>\n",
       "      <td>2471</td>\n",
       "      <td>AAACAGCCACAAAGCG-1-MM_667</td>\n",
       "    </tr>\n",
       "    <tr>\n",
       "      <th>AAACAGCCACATGCTA-1-MM_667</th>\n",
       "      <td>SeuratProject</td>\n",
       "      <td>4824</td>\n",
       "      <td>2232</td>\n",
       "      <td>0.0</td>\n",
       "      <td>1</td>\n",
       "      <td>3</td>\n",
       "      <td>MM_667</td>\n",
       "      <td>F</td>\n",
       "      <td>Aab</td>\n",
       "      <td>3</td>\n",
       "      <td>...</td>\n",
       "      <td>3</td>\n",
       "      <td>Acinar</td>\n",
       "      <td>AAACAGCCACATGCTA-1</td>\n",
       "      <td>MM_667_AAACAGCCACATGCTA</td>\n",
       "      <td>Acinar_3</td>\n",
       "      <td>multi_6267</td>\n",
       "      <td>multiome</td>\n",
       "      <td>5980</td>\n",
       "      <td>2697</td>\n",
       "      <td>AAACAGCCACATGCTA-1-MM_667</td>\n",
       "    </tr>\n",
       "    <tr>\n",
       "      <th>AAACAGCCACTAAGTT-1-MM_667</th>\n",
       "      <td>SeuratProject</td>\n",
       "      <td>1455</td>\n",
       "      <td>904</td>\n",
       "      <td>0.0</td>\n",
       "      <td>6</td>\n",
       "      <td>1</td>\n",
       "      <td>MM_667</td>\n",
       "      <td>F</td>\n",
       "      <td>Aab</td>\n",
       "      <td>1</td>\n",
       "      <td>...</td>\n",
       "      <td>1</td>\n",
       "      <td>Acinar</td>\n",
       "      <td>AAACAGCCACTAAGTT-1</td>\n",
       "      <td>MM_667_AAACAGCCACTAAGTT</td>\n",
       "      <td>Acinar_3</td>\n",
       "      <td>multi_6267</td>\n",
       "      <td>multiome</td>\n",
       "      <td>1627</td>\n",
       "      <td>1015</td>\n",
       "      <td>AAACAGCCACTAAGTT-1-MM_667</td>\n",
       "    </tr>\n",
       "  </tbody>\n",
       "</table>\n",
       "<p>5 rows × 21 columns</p>\n",
       "</div>"
      ],
      "text/plain": [
       "                              orig.ident  nCount_RNA  nFeature_RNA  \\\n",
       "AAACAGCCAATGAATG-1-MM_667  SeuratProject        4690          1862   \n",
       "AAACAGCCAATTTGGT-1-MM_667  SeuratProject        1481           964   \n",
       "AAACAGCCACAAAGCG-1-MM_667  SeuratProject        4417          2044   \n",
       "AAACAGCCACATGCTA-1-MM_667  SeuratProject        4824          2232   \n",
       "AAACAGCCACTAAGTT-1-MM_667  SeuratProject        1455           904   \n",
       "\n",
       "                           percent.mt  RNA_snn_res.1  seurat_clusters samples  \\\n",
       "AAACAGCCAATGAATG-1-MM_667         0.0              7                4  MM_667   \n",
       "AAACAGCCAATTTGGT-1-MM_667         0.0              3                1  MM_667   \n",
       "AAACAGCCACAAAGCG-1-MM_667         0.0              8                2  MM_667   \n",
       "AAACAGCCACATGCTA-1-MM_667         0.0              1                3  MM_667   \n",
       "AAACAGCCACTAAGTT-1-MM_667         0.0              6                1  MM_667   \n",
       "\n",
       "                          sex condition  RNA_snn_res.0.5  ... SeuratClusters  \\\n",
       "AAACAGCCAATGAATG-1-MM_667   F       Aab                4  ...            4_1   \n",
       "AAACAGCCAATTTGGT-1-MM_667   F       Aab                1  ...              1   \n",
       "AAACAGCCACAAAGCG-1-MM_667   F       Aab                2  ...              2   \n",
       "AAACAGCCACATGCTA-1-MM_667   F       Aab                3  ...              3   \n",
       "AAACAGCCACTAAGTT-1-MM_667   F       Aab                1  ...              1   \n",
       "\n",
       "                          celltype_assignment2             barcode  \\\n",
       "AAACAGCCAATGAATG-1-MM_667               Ductal  AAACAGCCAATGAATG-1   \n",
       "AAACAGCCAATTTGGT-1-MM_667               Acinar  AAACAGCCAATTTGGT-1   \n",
       "AAACAGCCACAAAGCG-1-MM_667               Acinar  AAACAGCCACAAAGCG-1   \n",
       "AAACAGCCACATGCTA-1-MM_667               Acinar  AAACAGCCACATGCTA-1   \n",
       "AAACAGCCACTAAGTT-1-MM_667               Acinar  AAACAGCCACTAAGTT-1   \n",
       "\n",
       "                                      nPOD_barcode CurrentObjLabels  \\\n",
       "AAACAGCCAATGAATG-1-MM_667  MM_667_AAACAGCCAATGAATG           Ductal   \n",
       "AAACAGCCAATTTGGT-1-MM_667  MM_667_AAACAGCCAATTTGGT      Acinar1_2_6   \n",
       "AAACAGCCACAAAGCG-1-MM_667  MM_667_AAACAGCCACAAAGCG      Acinar1_2_6   \n",
       "AAACAGCCACATGCTA-1-MM_667  MM_667_AAACAGCCACATGCTA         Acinar_3   \n",
       "AAACAGCCACTAAGTT-1-MM_667  MM_667_AAACAGCCACTAAGTT         Acinar_3   \n",
       "\n",
       "                              nPOD_ID technology nCount_RAW_mtx  \\\n",
       "AAACAGCCAATGAATG-1-MM_667  multi_6267   multiome           5948   \n",
       "AAACAGCCAATTTGGT-1-MM_667  multi_6267   multiome           1888   \n",
       "AAACAGCCACAAAGCG-1-MM_667  multi_6267   multiome           5367   \n",
       "AAACAGCCACATGCTA-1-MM_667  multi_6267   multiome           5980   \n",
       "AAACAGCCACTAAGTT-1-MM_667  multi_6267   multiome           1627   \n",
       "\n",
       "                           nFeature_RAW_mtx                   barcode2  \n",
       "AAACAGCCAATGAATG-1-MM_667              2507  AAACAGCCAATGAATG-1-MM_667  \n",
       "AAACAGCCAATTTGGT-1-MM_667              1241  AAACAGCCAATTTGGT-1-MM_667  \n",
       "AAACAGCCACAAAGCG-1-MM_667              2471  AAACAGCCACAAAGCG-1-MM_667  \n",
       "AAACAGCCACATGCTA-1-MM_667              2697  AAACAGCCACATGCTA-1-MM_667  \n",
       "AAACAGCCACTAAGTT-1-MM_667              1015  AAACAGCCACTAAGTT-1-MM_667  \n",
       "\n",
       "[5 rows x 21 columns]"
      ]
     },
     "execution_count": 5,
     "metadata": {},
     "output_type": "execute_result"
    }
   ],
   "source": [
    "#this was created from ripping the metadata from the RDS object using the script /tscc/projects/ps-gaultonlab/abhowell/scenic_data/create_npod2_meta_forscenicplus.R\n",
    "#metadata comes from original RDS object\n",
    "#/tscc/projects/ps-gaultonlab/abhowell/scenic_data/031424_PancGRS_8lanes_merged_filt5perMito_100katacRNAcounts_peakCallLieden_celltypesLabelled_wlymph_rmLowQualAcinar_peakCallCelltype_acinarSubtypes_usingNPOD1refmap_newWindowsAssayNoCHR_finalPeakCalls_wGeneAct.rds\n",
    "import pandas as pd\n",
    "cell_data = pd.read_table(\"npod1_AAB_metadata.tsv\", index_col = 0)\n",
    "cell_data.head()"
   ]
  },
  {
   "cell_type": "code",
   "execution_count": 6,
   "id": "13f8123b-def7-4648-bc5d-3bc4c90228a9",
   "metadata": {},
   "outputs": [
    {
     "data": {
      "text/html": [
       "<div>\n",
       "<style scoped>\n",
       "    .dataframe tbody tr th:only-of-type {\n",
       "        vertical-align: middle;\n",
       "    }\n",
       "\n",
       "    .dataframe tbody tr th {\n",
       "        vertical-align: top;\n",
       "    }\n",
       "\n",
       "    .dataframe thead th {\n",
       "        text-align: right;\n",
       "    }\n",
       "</style>\n",
       "<table border=\"1\" class=\"dataframe\">\n",
       "  <thead>\n",
       "    <tr style=\"text-align: right;\">\n",
       "      <th></th>\n",
       "      <th>Chromosome</th>\n",
       "      <th>Start</th>\n",
       "      <th>End</th>\n",
       "    </tr>\n",
       "  </thead>\n",
       "  <tbody>\n",
       "    <tr>\n",
       "      <th>0</th>\n",
       "      <td>chr1</td>\n",
       "      <td>0</td>\n",
       "      <td>248956422</td>\n",
       "    </tr>\n",
       "    <tr>\n",
       "      <th>1</th>\n",
       "      <td>chr2</td>\n",
       "      <td>0</td>\n",
       "      <td>242193529</td>\n",
       "    </tr>\n",
       "    <tr>\n",
       "      <th>2</th>\n",
       "      <td>chr3</td>\n",
       "      <td>0</td>\n",
       "      <td>198295559</td>\n",
       "    </tr>\n",
       "    <tr>\n",
       "      <th>3</th>\n",
       "      <td>chr4</td>\n",
       "      <td>0</td>\n",
       "      <td>190214555</td>\n",
       "    </tr>\n",
       "    <tr>\n",
       "      <th>4</th>\n",
       "      <td>chr5</td>\n",
       "      <td>0</td>\n",
       "      <td>181538259</td>\n",
       "    </tr>\n",
       "  </tbody>\n",
       "</table>\n",
       "</div>"
      ],
      "text/plain": [
       "  Chromosome  Start        End\n",
       "0       chr1      0  248956422\n",
       "1       chr2      0  242193529\n",
       "2       chr3      0  198295559\n",
       "3       chr4      0  190214555\n",
       "4       chr5      0  181538259"
      ]
     },
     "execution_count": 6,
     "metadata": {},
     "output_type": "execute_result"
    }
   ],
   "source": [
    "chromsizes = pd.read_table(\n",
    "    \"http://hgdownload.cse.ucsc.edu/goldenPath/hg38/bigZips/hg38.chrom.sizes\",\n",
    "    header = None,\n",
    "    names = [\"Chromosome\", \"End\"]\n",
    ")\n",
    "chromsizes.insert(1, \"Start\", 0)\n",
    "chromsizes.head()"
   ]
  },
  {
   "cell_type": "code",
   "execution_count": 7,
   "id": "410ac387-775a-47a7-bc43-4d19c67351f2",
   "metadata": {},
   "outputs": [],
   "source": [
    "from pycisTopic.pseudobulk_peak_calling import export_pseudobulk\n",
    "os.makedirs(os.path.join(out_dir, \"consensus_peak_calling\"), exist_ok = True)\n",
    "os.makedirs(os.path.join(out_dir, \"consensus_peak_calling/pseudobulk_bed_files\"), exist_ok = True)\n",
    "os.makedirs(os.path.join(out_dir, \"consensus_peak_calling/pseudobulk_bw_files\"), exist_ok = True)"
   ]
  },
  {
   "cell_type": "code",
   "execution_count": 8,
   "id": "955935ab-4df4-4239-8f4f-61997937876f",
   "metadata": {},
   "outputs": [
    {
     "name": "stdout",
     "output_type": "stream",
     "text": [
      "2025-03-06 12:25:18,897 cisTopic     INFO     Splitting fragments by cell type.\n",
      "2025-03-06 12:27:45,565 cisTopic     INFO     generating bigwig files\n"
     ]
    }
   ],
   "source": [
    "bw_paths, bed_paths = export_pseudobulk(\n",
    "    input_data = cell_data,\n",
    "    variable = \"celltype_assignment2\",\n",
    "    sample_id_col = \"samples\",\n",
    "    chromsizes = chromsizes,\n",
    "    bed_path = os.path.join(out_dir, \"consensus_peak_calling/pseudobulk_bed_files\"),\n",
    "    bigwig_path = os.path.join(out_dir, \"consensus_peak_calling/pseudobulk_bw_files\"),\n",
    "    path_to_fragments = fragments_dict,\n",
    "    n_cpu = 20,\n",
    "    normalize_bigwig = True,\n",
    "    temp_dir = \"/tmp\",\n",
    "    split_pattern = \"-\")"
   ]
  },
  {
   "cell_type": "code",
   "execution_count": 9,
   "id": "48945a81-4744-48bd-9e6a-07bcdd218278",
   "metadata": {},
   "outputs": [],
   "source": [
    "with open(os.path.join(out_dir, \"consensus_peak_calling/bw_paths.tsv\"), \"wt\") as f:\n",
    "    for v in bw_paths:\n",
    "        _ = f.write(f\"{v}\\t{bw_paths[v]}\\n\")"
   ]
  },
  {
   "cell_type": "code",
   "execution_count": 10,
   "id": "94b64c76-40b5-4f34-8ad0-e1bb6e6cec3b",
   "metadata": {},
   "outputs": [],
   "source": [
    "with open(os.path.join(out_dir, \"consensus_peak_calling/bed_paths.tsv\"), \"wt\") as f:\n",
    "    for v in bed_paths:\n",
    "        _ = f.write(f\"{v}\\t{bed_paths[v]}\\n\")"
   ]
  },
  {
   "cell_type": "code",
   "execution_count": 11,
   "id": "65a4f777-9142-48eb-82ac-d57d22cfbcb7",
   "metadata": {},
   "outputs": [],
   "source": [
    "bw_paths = {}\n",
    "with open(os.path.join(out_dir, \"consensus_peak_calling/bw_paths.tsv\")) as f:\n",
    "    for line in f:\n",
    "        v, p = line.strip().split(\"\\t\")\n",
    "        bw_paths.update({v: p})"
   ]
  },
  {
   "cell_type": "code",
   "execution_count": 12,
   "id": "bb6b8eb1-0aec-48e4-8150-f27ed7e5661b",
   "metadata": {},
   "outputs": [],
   "source": [
    "bed_paths = {}\n",
    "with open(os.path.join(out_dir, \"consensus_peak_calling/bed_paths.tsv\")) as f:\n",
    "    for line in f:\n",
    "        v, p = line.strip().split(\"\\t\")\n",
    "        bed_paths.update({v: p})"
   ]
  },
  {
   "cell_type": "code",
   "execution_count": 13,
   "id": "1c59675b-5b8b-4f19-a7e4-be89b1fa05ed",
   "metadata": {},
   "outputs": [
    {
     "name": "stderr",
     "output_type": "stream",
     "text": [
      "2025-03-06 12:29:55,827\tINFO worker.py:1724 -- Started a local Ray instance.\n"
     ]
    },
    {
     "name": "stdout",
     "output_type": "stream",
     "text": [
      "\u001b[36m(macs_call_peak_ray pid=25077)\u001b[0m 2025-03-06 12:29:59,363 cisTopic     INFO     Calling peaks for T_cells with macs2 callpeak --treatment outs/consensus_peak_calling/pseudobulk_bed_files/T_cells.fragments.tsv.gz --name T_cells  --outdir outs/consensus_peak_calling/MACS --format BEDPE --gsize hs --qvalue 0.05 --nomodel --shift 73 --extsize 146 --keep-dup all --call-summits --nolambda\n",
      "\u001b[36m(macs_call_peak_ray pid=25082)\u001b[0m 2025-03-06 12:29:59,381 cisTopic     INFO     Calling peaks for LymphEndo with macs2 callpeak --treatment outs/consensus_peak_calling/pseudobulk_bed_files/LymphEndo.fragments.tsv.gz --name LymphEndo  --outdir outs/consensus_peak_calling/MACS --format BEDPE --gsize hs --qvalue 0.05 --nomodel --shift 73 --extsize 146 --keep-dup all --call-summits --nolambda\n",
      "\u001b[36m(macs_call_peak_ray pid=25083)\u001b[0m 2025-03-06 12:29:59,459 cisTopic     INFO     Calling peaks for Alpha with macs2 callpeak --treatment outs/consensus_peak_calling/pseudobulk_bed_files/Alpha.fragments.tsv.gz --name Alpha  --outdir outs/consensus_peak_calling/MACS --format BEDPE --gsize hs --qvalue 0.05 --nomodel --shift 73 --extsize 146 --keep-dup all --call-summits --nolambda\n",
      "\u001b[36m(macs_call_peak_ray pid=25081)\u001b[0m 2025-03-06 12:29:59,444 cisTopic     INFO     Calling peaks for Activated_stellate with macs2 callpeak --treatment outs/consensus_peak_calling/pseudobulk_bed_files/Activated_stellate.fragments.tsv.gz --name Activated_stellate  --outdir outs/consensus_peak_calling/MACS --format BEDPE --gsize hs --qvalue 0.05 --nomodel --shift 73 --extsize 146 --keep-dup all --call-summits --nolambda\n",
      "\u001b[36m(macs_call_peak_ray pid=25079)\u001b[0m 2025-03-06 12:29:59,559 cisTopic     INFO     Calling peaks for Endothelial with macs2 callpeak --treatment outs/consensus_peak_calling/pseudobulk_bed_files/Endothelial.fragments.tsv.gz --name Endothelial  --outdir outs/consensus_peak_calling/MACS --format BEDPE --gsize hs --qvalue 0.05 --nomodel --shift 73 --extsize 146 --keep-dup all --call-summits --nolambda\n",
      "\u001b[36m(macs_call_peak_ray pid=25078)\u001b[0m 2025-03-06 12:29:59,528 cisTopic     INFO     Calling peaks for Quinscient_stellate with macs2 callpeak --treatment outs/consensus_peak_calling/pseudobulk_bed_files/Quinscient_stellate.fragments.tsv.gz --name Quinscient_stellate  --outdir outs/consensus_peak_calling/MACS --format BEDPE --gsize hs --qvalue 0.05 --nomodel --shift 73 --extsize 146 --keep-dup all --call-summits --nolambda\n",
      "\u001b[36m(macs_call_peak_ray pid=25076)\u001b[0m 2025-03-06 12:29:59,574 cisTopic     INFO     Calling peaks for Macrophage with macs2 callpeak --treatment outs/consensus_peak_calling/pseudobulk_bed_files/Macrophage.fragments.tsv.gz --name Macrophage  --outdir outs/consensus_peak_calling/MACS --format BEDPE --gsize hs --qvalue 0.05 --nomodel --shift 73 --extsize 146 --keep-dup all --call-summits --nolambda\n",
      "\u001b[36m(macs_call_peak_ray pid=25074)\u001b[0m 2025-03-06 12:29:59,611 cisTopic     INFO     Calling peaks for Beta with macs2 callpeak --treatment outs/consensus_peak_calling/pseudobulk_bed_files/Beta.fragments.tsv.gz --name Beta  --outdir outs/consensus_peak_calling/MACS --format BEDPE --gsize hs --qvalue 0.05 --nomodel --shift 73 --extsize 146 --keep-dup all --call-summits --nolambda\n",
      "\u001b[36m(macs_call_peak_ray pid=25080)\u001b[0m 2025-03-06 12:29:59,523 cisTopic     INFO     Calling peaks for Ductal with macs2 callpeak --treatment outs/consensus_peak_calling/pseudobulk_bed_files/Ductal.fragments.tsv.gz --name Ductal  --outdir outs/consensus_peak_calling/MACS --format BEDPE --gsize hs --qvalue 0.05 --nomodel --shift 73 --extsize 146 --keep-dup all --call-summits --nolambda\n",
      "\u001b[36m(macs_call_peak_ray pid=25075)\u001b[0m 2025-03-06 12:29:59,525 cisTopic     INFO     Calling peaks for Acinar with macs2 callpeak --treatment outs/consensus_peak_calling/pseudobulk_bed_files/Acinar.fragments.tsv.gz --name Acinar  --outdir outs/consensus_peak_calling/MACS --format BEDPE --gsize hs --qvalue 0.05 --nomodel --shift 73 --extsize 146 --keep-dup all --call-summits --nolambda\n",
      "\u001b[36m(macs_call_peak_ray pid=25082)\u001b[0m 2025-03-06 12:30:01,564 cisTopic     INFO     LymphEndo done!\n",
      "\u001b[36m(macs_call_peak_ray pid=25082)\u001b[0m 2025-03-06 12:30:01,575 cisTopic     INFO     Calling peaks for MUC5b_Ductal with macs2 callpeak --treatment outs/consensus_peak_calling/pseudobulk_bed_files/MUC5b_Ductal.fragments.tsv.gz --name MUC5b_Ductal  --outdir outs/consensus_peak_calling/MACS --format BEDPE --gsize hs --qvalue 0.05 --nomodel --shift 73 --extsize 146 --keep-dup all --call-summits --nolambda\n",
      "\u001b[36m(macs_call_peak_ray pid=25078)\u001b[0m 2025-03-06 12:30:05,574 cisTopic     INFO     Quinscient_stellate done!\n",
      "\u001b[36m(macs_call_peak_ray pid=25078)\u001b[0m 2025-03-06 12:30:05,585 cisTopic     INFO     Calling peaks for B_cells with macs2 callpeak --treatment outs/consensus_peak_calling/pseudobulk_bed_files/B_cells.fragments.tsv.gz --name B_cells  --outdir outs/consensus_peak_calling/MACS --format BEDPE --gsize hs --qvalue 0.05 --nomodel --shift 73 --extsize 146 --keep-dup all --call-summits --nolambda\n",
      "\u001b[36m(macs_call_peak_ray pid=25078)\u001b[0m 2025-03-06 12:30:07,033 cisTopic     INFO     B_cells done!\n",
      "\u001b[36m(macs_call_peak_ray pid=25078)\u001b[0m 2025-03-06 12:30:07,040 cisTopic     INFO     Calling peaks for Delta with macs2 callpeak --treatment outs/consensus_peak_calling/pseudobulk_bed_files/Delta.fragments.tsv.gz --name Delta  --outdir outs/consensus_peak_calling/MACS --format BEDPE --gsize hs --qvalue 0.05 --nomodel --shift 73 --extsize 146 --keep-dup all --call-summits --nolambda\n",
      "\u001b[36m(macs_call_peak_ray pid=25077)\u001b[0m 2025-03-06 12:30:07,233 cisTopic     INFO     T_cells done!\n",
      "\u001b[36m(macs_call_peak_ray pid=25077)\u001b[0m 2025-03-06 12:30:07,248 cisTopic     INFO     Calling peaks for Schwann with macs2 callpeak --treatment outs/consensus_peak_calling/pseudobulk_bed_files/Schwann.fragments.tsv.gz --name Schwann  --outdir outs/consensus_peak_calling/MACS --format BEDPE --gsize hs --qvalue 0.05 --nomodel --shift 73 --extsize 146 --keep-dup all --call-summits --nolambda\n",
      "\u001b[36m(macs_call_peak_ray pid=25079)\u001b[0m 2025-03-06 12:30:08,192 cisTopic     INFO     Endothelial done!\n",
      "\u001b[36m(macs_call_peak_ray pid=25077)\u001b[0m 2025-03-06 12:30:08,740 cisTopic     INFO     Schwann done!\n",
      "\u001b[36m(macs_call_peak_ray pid=25082)\u001b[0m 2025-03-06 12:30:10,205 cisTopic     INFO     MUC5b_Ductal done!\n",
      "\u001b[36m(macs_call_peak_ray pid=25078)\u001b[0m 2025-03-06 12:30:10,930 cisTopic     INFO     Delta done!\n",
      "\u001b[36m(macs_call_peak_ray pid=25074)\u001b[0m 2025-03-06 12:30:16,149 cisTopic     INFO     Beta done!\n",
      "\u001b[36m(macs_call_peak_ray pid=25076)\u001b[0m 2025-03-06 12:30:19,185 cisTopic     INFO     Macrophage done!\n",
      "\u001b[36m(macs_call_peak_ray pid=25083)\u001b[0m 2025-03-06 12:30:20,349 cisTopic     INFO     Alpha done!\n",
      "\u001b[36m(macs_call_peak_ray pid=25081)\u001b[0m 2025-03-06 12:30:27,591 cisTopic     INFO     Activated_stellate done!\n",
      "\u001b[36m(macs_call_peak_ray pid=25080)\u001b[0m 2025-03-06 12:30:32,867 cisTopic     INFO     Ductal done!\n",
      "\u001b[36m(macs_call_peak_ray pid=25075)\u001b[0m 2025-03-06 12:34:16,422 cisTopic     INFO     Acinar done!\n"
     ]
    }
   ],
   "source": [
    "from pycisTopic.pseudobulk_peak_calling import peak_calling\n",
    "macs_path = \"macs2\"\n",
    "\n",
    "os.makedirs(os.path.join(out_dir, \"consensus_peak_calling/MACS\"), exist_ok = True)\n",
    "\n",
    "narrow_peak_dict = peak_calling(\n",
    "    macs_path = macs_path,\n",
    "    bed_paths = bed_paths,\n",
    "    outdir = os.path.join(os.path.join(out_dir, \"consensus_peak_calling/MACS\")),\n",
    "    genome_size = 'hs',\n",
    "    n_cpu = 10,\n",
    "    input_format = 'BEDPE',\n",
    "    shift = 73,\n",
    "    ext_size = 146,\n",
    "    keep_dup = 'all',\n",
    "    q_value = 0.05,\n",
    "    _temp_dir = '/tscc/lustre/ddn/scratch/abhowell',\n",
    "    skip_empty_peaks = True\n",
    ")"
   ]
  },
  {
   "cell_type": "code",
   "execution_count": 14,
   "id": "ecb9ced7-0bdf-4814-b035-ded426b4aeb7",
   "metadata": {},
   "outputs": [
    {
     "name": "stdout",
     "output_type": "stream",
     "text": [
      "2025-03-06 12:34:17,998 cisTopic     INFO     Extending and merging peaks per class\n",
      "2025-03-06 12:34:56,841 cisTopic     INFO     Normalizing peak scores\n",
      "2025-03-06 12:34:57,093 cisTopic     INFO     Merging peaks\n",
      "Warning! Start and End columns now have different dtypes: int64 and int32\n",
      "2025-03-06 12:35:29,499 cisTopic     INFO     Done!\n"
     ]
    }
   ],
   "source": [
    "#had to clone pycistopic github seperately - not in scenic+ git clone\n",
    "from pycisTopic.iterative_peak_calling import get_consensus_peaks\n",
    "# Other param\n",
    "peak_half_width=250\n",
    "path_to_blacklist=\"/tscc/nfs/home/abhowell/pycisTopic/blacklist/hg38-blacklist.v2.bed\"\n",
    "# Get consensus peaks\n",
    "consensus_peaks = get_consensus_peaks(\n",
    "    narrow_peaks_dict = narrow_peak_dict,\n",
    "    peak_half_width = peak_half_width,\n",
    "    chromsizes = chromsizes,\n",
    "    path_to_blacklist = path_to_blacklist)"
   ]
  },
  {
   "cell_type": "code",
   "execution_count": 15,
   "id": "dc7f11ff-b8fd-403d-9fd0-41e25b02e5eb",
   "metadata": {},
   "outputs": [
    {
     "name": "stderr",
     "output_type": "stream",
     "text": [
      "/tscc/nfs/home/abhowell/miniconda3/envs/scenicplus/lib/python3.11/site-packages/pyranges/out.py:37: FutureWarning: Passing a set as an indexer is deprecated and will raise in a future version. Use a list instead.\n",
      "  return pd.concat([outdf, df.get(noncanonical)], axis=1)\n",
      "/tscc/nfs/home/abhowell/miniconda3/envs/scenicplus/lib/python3.11/site-packages/pyranges/out.py:37: FutureWarning: Passing a set as an indexer is deprecated and will raise in a future version. Use a list instead.\n",
      "  return pd.concat([outdf, df.get(noncanonical)], axis=1)\n",
      "/tscc/nfs/home/abhowell/miniconda3/envs/scenicplus/lib/python3.11/site-packages/pyranges/out.py:37: FutureWarning: Passing a set as an indexer is deprecated and will raise in a future version. Use a list instead.\n",
      "  return pd.concat([outdf, df.get(noncanonical)], axis=1)\n",
      "/tscc/nfs/home/abhowell/miniconda3/envs/scenicplus/lib/python3.11/site-packages/pyranges/out.py:37: FutureWarning: Passing a set as an indexer is deprecated and will raise in a future version. Use a list instead.\n",
      "  return pd.concat([outdf, df.get(noncanonical)], axis=1)\n",
      "/tscc/nfs/home/abhowell/miniconda3/envs/scenicplus/lib/python3.11/site-packages/pyranges/out.py:37: FutureWarning: Passing a set as an indexer is deprecated and will raise in a future version. Use a list instead.\n",
      "  return pd.concat([outdf, df.get(noncanonical)], axis=1)\n",
      "/tscc/nfs/home/abhowell/miniconda3/envs/scenicplus/lib/python3.11/site-packages/pyranges/out.py:37: FutureWarning: Passing a set as an indexer is deprecated and will raise in a future version. Use a list instead.\n",
      "  return pd.concat([outdf, df.get(noncanonical)], axis=1)\n",
      "/tscc/nfs/home/abhowell/miniconda3/envs/scenicplus/lib/python3.11/site-packages/pyranges/out.py:37: FutureWarning: Passing a set as an indexer is deprecated and will raise in a future version. Use a list instead.\n",
      "  return pd.concat([outdf, df.get(noncanonical)], axis=1)\n",
      "/tscc/nfs/home/abhowell/miniconda3/envs/scenicplus/lib/python3.11/site-packages/pyranges/out.py:37: FutureWarning: Passing a set as an indexer is deprecated and will raise in a future version. Use a list instead.\n",
      "  return pd.concat([outdf, df.get(noncanonical)], axis=1)\n",
      "/tscc/nfs/home/abhowell/miniconda3/envs/scenicplus/lib/python3.11/site-packages/pyranges/out.py:37: FutureWarning: Passing a set as an indexer is deprecated and will raise in a future version. Use a list instead.\n",
      "  return pd.concat([outdf, df.get(noncanonical)], axis=1)\n",
      "/tscc/nfs/home/abhowell/miniconda3/envs/scenicplus/lib/python3.11/site-packages/pyranges/out.py:37: FutureWarning: Passing a set as an indexer is deprecated and will raise in a future version. Use a list instead.\n",
      "  return pd.concat([outdf, df.get(noncanonical)], axis=1)\n",
      "/tscc/nfs/home/abhowell/miniconda3/envs/scenicplus/lib/python3.11/site-packages/pyranges/out.py:37: FutureWarning: Passing a set as an indexer is deprecated and will raise in a future version. Use a list instead.\n",
      "  return pd.concat([outdf, df.get(noncanonical)], axis=1)\n",
      "/tscc/nfs/home/abhowell/miniconda3/envs/scenicplus/lib/python3.11/site-packages/pyranges/out.py:37: FutureWarning: Passing a set as an indexer is deprecated and will raise in a future version. Use a list instead.\n",
      "  return pd.concat([outdf, df.get(noncanonical)], axis=1)\n",
      "/tscc/nfs/home/abhowell/miniconda3/envs/scenicplus/lib/python3.11/site-packages/pyranges/out.py:37: FutureWarning: Passing a set as an indexer is deprecated and will raise in a future version. Use a list instead.\n",
      "  return pd.concat([outdf, df.get(noncanonical)], axis=1)\n",
      "/tscc/nfs/home/abhowell/miniconda3/envs/scenicplus/lib/python3.11/site-packages/pyranges/out.py:37: FutureWarning: Passing a set as an indexer is deprecated and will raise in a future version. Use a list instead.\n",
      "  return pd.concat([outdf, df.get(noncanonical)], axis=1)\n",
      "/tscc/nfs/home/abhowell/miniconda3/envs/scenicplus/lib/python3.11/site-packages/pyranges/out.py:37: FutureWarning: Passing a set as an indexer is deprecated and will raise in a future version. Use a list instead.\n",
      "  return pd.concat([outdf, df.get(noncanonical)], axis=1)\n",
      "/tscc/nfs/home/abhowell/miniconda3/envs/scenicplus/lib/python3.11/site-packages/pyranges/out.py:37: FutureWarning: Passing a set as an indexer is deprecated and will raise in a future version. Use a list instead.\n",
      "  return pd.concat([outdf, df.get(noncanonical)], axis=1)\n",
      "/tscc/nfs/home/abhowell/miniconda3/envs/scenicplus/lib/python3.11/site-packages/pyranges/out.py:37: FutureWarning: Passing a set as an indexer is deprecated and will raise in a future version. Use a list instead.\n",
      "  return pd.concat([outdf, df.get(noncanonical)], axis=1)\n",
      "/tscc/nfs/home/abhowell/miniconda3/envs/scenicplus/lib/python3.11/site-packages/pyranges/out.py:37: FutureWarning: Passing a set as an indexer is deprecated and will raise in a future version. Use a list instead.\n",
      "  return pd.concat([outdf, df.get(noncanonical)], axis=1)\n",
      "/tscc/nfs/home/abhowell/miniconda3/envs/scenicplus/lib/python3.11/site-packages/pyranges/out.py:37: FutureWarning: Passing a set as an indexer is deprecated and will raise in a future version. Use a list instead.\n",
      "  return pd.concat([outdf, df.get(noncanonical)], axis=1)\n",
      "/tscc/nfs/home/abhowell/miniconda3/envs/scenicplus/lib/python3.11/site-packages/pyranges/out.py:37: FutureWarning: Passing a set as an indexer is deprecated and will raise in a future version. Use a list instead.\n",
      "  return pd.concat([outdf, df.get(noncanonical)], axis=1)\n",
      "/tscc/nfs/home/abhowell/miniconda3/envs/scenicplus/lib/python3.11/site-packages/pyranges/out.py:37: FutureWarning: Passing a set as an indexer is deprecated and will raise in a future version. Use a list instead.\n",
      "  return pd.concat([outdf, df.get(noncanonical)], axis=1)\n",
      "/tscc/nfs/home/abhowell/miniconda3/envs/scenicplus/lib/python3.11/site-packages/pyranges/out.py:37: FutureWarning: Passing a set as an indexer is deprecated and will raise in a future version. Use a list instead.\n",
      "  return pd.concat([outdf, df.get(noncanonical)], axis=1)\n",
      "/tscc/nfs/home/abhowell/miniconda3/envs/scenicplus/lib/python3.11/site-packages/pyranges/out.py:37: FutureWarning: Passing a set as an indexer is deprecated and will raise in a future version. Use a list instead.\n",
      "  return pd.concat([outdf, df.get(noncanonical)], axis=1)\n"
     ]
    }
   ],
   "source": [
    "#this gives a warning but it does make the file consensus_regions.bed so its fine\n",
    "consensus_peaks.to_bed(\n",
    "    path = os.path.join(out_dir, \"consensus_peak_calling/consensus_regions.bed\"),\n",
    "    keep =True,\n",
    "    compression = 'infer',\n",
    "    chain = False)"
   ]
  },
  {
   "cell_type": "code",
   "execution_count": 16,
   "id": "a2fe5138-9458-4bfa-99f5-b204b5f59c44",
   "metadata": {},
   "outputs": [],
   "source": [
    "!mkdir -p outs/qc/"
   ]
  },
  {
   "cell_type": "code",
   "execution_count": 17,
   "id": "2c51f3c1-1c0b-4756-a72e-8b066283a176",
   "metadata": {},
   "outputs": [],
   "source": [
    "regions_bed_filename = os.path.join(out_dir, \"consensus_peak_calling/consensus_regions.bed\")\n",
    "tss_bed_filename = os.path.join(out_dir, \"qc\", \"tss.bed\")\n",
    "\n",
    "pycistopic_qc_commands_filename = \"pycistopic_qc_commands.txt\"\n",
    "\n",
    "# Create text file with all pycistopic qc command lines.\n",
    "with open(pycistopic_qc_commands_filename, \"w\") as fh:\n",
    "    for sample, fragment_filename in fragments_dict.items():\n",
    "        print(\n",
    "            \"pycistopic qc run\",\n",
    "            f\"--fragments {fragment_filename}\",\n",
    "            f\"--regions {regions_bed_filename}\",\n",
    "            f\"--tss /tscc/projects/ps-gaultonlab/abhowell/scenic_data_npod1/qc/tss.bed\",\n",
    "            f\"--output /tscc/projects/ps-gaultonlab/projects/npod1/cellranger_output/Multiome/AAB/outs/qc/{sample}\",\n",
    "            sep=\" \",\n",
    "            file=fh\n",
    "        )"
   ]
  },
  {
   "cell_type": "code",
   "execution_count": 18,
   "id": "4229a4e3-246e-454b-9d88-2a65cede2597",
   "metadata": {},
   "outputs": [],
   "source": [
    "#add to this file\n",
    "#!/bin/bash\n",
    "#SBATCH --partition=condo\n",
    "#SBATCH --qos=condo\n",
    "#SBACTH --nodes=4\n",
    "#SBATCH --ntasks-per-node=1\n",
    "#SBATCH --time=3-00:00:00\n",
    "#SBATCH --account=csd854\n",
    "#SBATCH --mem=300GB\n",
    "\n",
    "#conda activate pycistopic_polars"
   ]
  },
  {
   "cell_type": "code",
   "execution_count": 7,
   "id": "0cbf6926-fc3c-4ec1-8336-7366fc82b256",
   "metadata": {},
   "outputs": [
    {
     "name": "stdout",
     "output_type": "stream",
     "text": [
      "MM_667:\n",
      "\tNo threshold for unique fragments defined, setting to 0.\n",
      "\tNo threshold for TSS enrichment defined, setting to 0.0.\n"
     ]
    }
   ],
   "source": [
    "from pycisTopic.qc import get_barcodes_passing_qc_for_sample\n",
    "sample_id_to_barcodes_passing_filters = {}\n",
    "sample_id_to_thresholds = {}\n",
    "for sample_id in fragments_dict:\n",
    "    (\n",
    "        sample_id_to_barcodes_passing_filters[sample_id],\n",
    "        sample_id_to_thresholds[sample_id]\n",
    "    ) = get_barcodes_passing_qc_for_sample(\n",
    "            sample_id = sample_id,\n",
    "            pycistopic_qc_output_dir = \"outs/qc\",\n",
    "            unique_fragments_threshold = None, # use automatic thresholding\n",
    "            tss_enrichment_threshold = None, # use automatic thresholding\n",
    "            frip_threshold = 0,\n",
    "            use_automatic_thresholds = False,\n",
    "    )"
   ]
  },
  {
   "cell_type": "code",
   "execution_count": 8,
   "id": "7a2ba584-df44-4327-bb2c-732bd3822bde",
   "metadata": {},
   "outputs": [
    {
     "name": "stdout",
     "output_type": "stream",
     "text": [
      "2025-03-07 15:19:41,029 cisTopic     INFO     Reading data for MM_667\n",
      "2025-03-07 15:20:58,690 cisTopic     INFO     valid_bc provided, selecting barcodes!\n",
      "2025-03-07 15:21:06,453 cisTopic     INFO     Counting number of unique fragments (Unique_nr_frag)\n",
      "2025-03-07 15:21:44,623 cisTopic     INFO     Counting fragments in regions\n"
     ]
    },
    {
     "name": "stderr",
     "output_type": "stream",
     "text": [
      "/tscc/nfs/home/abhowell/miniconda3/envs/pycistopic_polars/lib/python3.11/site-packages/tqdm/auto.py:21: TqdmWarning: IProgress not found. Please update jupyter and ipywidgets. See https://ipywidgets.readthedocs.io/en/stable/user_install.html\n",
      "  from .autonotebook import tqdm as notebook_tqdm\n",
      "2025-03-07 15:21:45,021\tINFO util.py:154 -- Missing packages: ['ipywidgets']. Run `pip install -U ipywidgets`, then restart the notebook server for rich notebook output.\n",
      "2025-03-07 15:21:47,740\tINFO worker.py:1724 -- Started a local Ray instance.\n"
     ]
    },
    {
     "name": "stdout",
     "output_type": "stream",
     "text": [
      "2025-03-07 15:22:23,737 cisTopic     INFO     Creating fragment matrix\n"
     ]
    },
    {
     "name": "stderr",
     "output_type": "stream",
     "text": [
      "/tscc/nfs/home/abhowell/miniconda3/envs/pycistopic_polars/lib/python3.11/site-packages/pycisTopic/cistopic_class.py:886: PerformanceWarning: The following operation may generate 51524740554 cells in the resulting pandas object.\n",
      "  .unstack(level=\"Name\", fill_value=0)\n"
     ]
    },
    {
     "name": "stdout",
     "output_type": "stream",
     "text": [
      "2025-03-07 15:30:07,844 cisTopic     INFO     Converting fragment matrix to sparse matrix\n",
      "2025-03-07 15:34:05,430 cisTopic     INFO     Removing blacklisted regions\n",
      "2025-03-07 15:34:06,298 cisTopic     INFO     Creating CistopicObject\n",
      "2025-03-07 15:34:11,136 cisTopic     INFO     Done!\n"
     ]
    }
   ],
   "source": [
    "#actual creating of the cistopic object\n",
    "path_to_regions = os.path.join(out_dir, \"consensus_peak_calling/consensus_regions.bed\")\n",
    "path_to_blacklist=\"/tscc/nfs/home/abhowell/pycisTopic/blacklist/hg38-blacklist.v2.bed\"\n",
    "pycistopic_qc_output_dir = \"outs/qc\"\n",
    "\n",
    "from pycisTopic.cistopic_class import create_cistopic_object_from_fragments\n",
    "import polars as pl\n",
    "\n",
    "cistopic_obj_list = []\n",
    "for sample_id in fragments_dict:\n",
    "   # sample_metrics = pl.read_parquet(\n",
    "   #     os.path.join(pycistopic_qc_output_dir, f'{sample_id}.fragments_stats_per_cb.parquet')\n",
    "   # ).to_pandas().set_index(\"CB\").loc[ sample_id_to_barcodes_passing_filters[sample_id] ]\n",
    "    cistopic_obj = create_cistopic_object_from_fragments(\n",
    "        path_to_fragments = fragments_dict[sample_id],\n",
    "        path_to_regions = path_to_regions,\n",
    "        path_to_blacklist = path_to_blacklist,\n",
    "    #    metrics = sample_metrics,\n",
    "        valid_bc = sample_id_to_barcodes_passing_filters[sample_id],\n",
    "        n_cpu = 30,\n",
    "        project = sample_id,\n",
    "        split_pattern = '-'\n",
    "    )\n",
    "    cistopic_obj_list.append(cistopic_obj)"
   ]
  },
  {
   "cell_type": "code",
   "execution_count": 9,
   "id": "f973cef9-857f-47c0-b233-1a8f24749568",
   "metadata": {},
   "outputs": [
    {
     "name": "stdout",
     "output_type": "stream",
     "text": [
      "Columns ['barcode'] will be overwritten\n"
     ]
    }
   ],
   "source": [
    "import pandas as pd\n",
    "cell_data = pd.read_table(\"npod1_AAB_metadata.tsv\", index_col = 0)\n",
    "cell_data.head()\n",
    "cistopic_obj.add_cell_data(cell_data)"
   ]
  },
  {
   "cell_type": "code",
   "execution_count": 10,
   "id": "5b7b4683-fbe4-4e78-94f2-3cad28b054ec",
   "metadata": {},
   "outputs": [
    {
     "name": "stdout",
     "output_type": "stream",
     "text": [
      "Acinar                 7330\n",
      "Ductal                  481\n",
      "Activated_stellate      206\n",
      "Alpha                   100\n",
      "Macrophage               84\n",
      "Beta                     71\n",
      "T_cells                  51\n",
      "Endothelial              48\n",
      "MUC5b_Ductal             39\n",
      "Quinscient_stellate      26\n",
      "Delta                    16\n",
      "LymphEndo                12\n",
      "Schwann                  10\n",
      "B_cells                   7\n",
      "Name: celltype_assignment2, dtype: int64\n"
     ]
    }
   ],
   "source": [
    "cistopic_obj.cell_data\n",
    "counts = cistopic_obj.cell_data.celltype_assignment2.value_counts()\n",
    "print(counts)"
   ]
  },
  {
   "cell_type": "code",
   "execution_count": 11,
   "id": "42030acb-e06a-4558-8b98-8700cb8d6dd2",
   "metadata": {},
   "outputs": [],
   "source": [
    "import pickle\n",
    "pickle.dump(\n",
    "    cistopic_obj,\n",
    "    open(os.path.join(out_dir, \"cistopic_obj.pkl\"), \"wb\")\n",
    ")"
   ]
  },
  {
   "cell_type": "code",
   "execution_count": null,
   "id": "7a218350-865d-4947-8c68-5285f4c207d1",
   "metadata": {
    "scrolled": true
   },
   "outputs": [],
   "source": [
    "#import scrublet as scr\n",
    "#scrub = scr.Scrublet(cistopic_obj.fragment_matrix.T, expected_doublet_rate=0.1)\n",
    "#doublet_scores, predicted_doublets = scrub.scrub_doublets()\n",
    "#scrub.plot_histogram();\n",
    "#scrub.call_doublets(threshold=0.22)\n",
    "#scrub.plot_histogram();\n",
    "#scrublet = pd.DataFrame([scrub.doublet_scores_obs_, scrub.predicted_doublets_], columns=cistopic_obj.cell_names, index=['Doublet_scores_fragments', 'Predicted_doublets_fragments']).T"
   ]
  },
  {
   "cell_type": "code",
   "execution_count": null,
   "id": "502b1212-b613-4407-98ea-ee88de28a87f",
   "metadata": {},
   "outputs": [],
   "source": [
    "#cistopic_obj.add_cell_data(scrublet, split_pattern = '-')\n",
    "#sum(cistopic_obj.cell_data.Predicted_doublets_fragments == True)"
   ]
  },
  {
   "cell_type": "code",
   "execution_count": null,
   "id": "ec2449b7-0388-4cd3-9d42-6310f31c4a65",
   "metadata": {},
   "outputs": [],
   "source": [
    "#still checking formattings not Fd\n",
    "#cistopic_obj.cell_data"
   ]
  },
  {
   "cell_type": "code",
   "execution_count": null,
   "id": "2f260fd6-1750-4893-964c-1fd7f0ddf4ab",
   "metadata": {},
   "outputs": [],
   "source": [
    "#pickle.dump(\n",
    "#    cistopic_obj,\n",
    "#    open(os.path.join(out_dir, \"cistopic_obj.pkl\"), \"wb\")\n",
    "#)"
   ]
  },
  {
   "cell_type": "code",
   "execution_count": null,
   "id": "e02bf7da-32d8-45c2-b16b-dda908b3047e",
   "metadata": {},
   "outputs": [],
   "source": [
    "# Remove doublets\n",
    "#singlets = cistopic_obj.cell_data[cistopic_obj.cell_data.Predicted_doublets_fragments == False].index.tolist()\n",
    "# Subset cisTopic object\n",
    "#cistopic_obj_noDBL = cistopic_obj.subset(singlets, copy=True, split_pattern='-')\n",
    "#print(cistopic_obj_noDBL)"
   ]
  },
  {
   "cell_type": "code",
   "execution_count": null,
   "id": "2a262d0d-36f4-41c0-990f-5b07eb6f9d51",
   "metadata": {},
   "outputs": [],
   "source": [
    "#pickle.dump(\n",
    "#    cistopic_obj,\n",
    "#    open(os.path.join(out_dir, \"cistopic_obj.pkl\"), \"wb\")\n",
    "#)"
   ]
  },
  {
   "cell_type": "code",
   "execution_count": null,
   "id": "382b83fe-20ca-4448-92b1-a56842e40117",
   "metadata": {},
   "outputs": [],
   "source": [
    "#!wget https://github.com/mimno/Mallet/releases/download/v202108/Mallet-202108-bin.tar.gz\n",
    "#!tar -xf Mallet-202108-bin.tar.gz"
   ]
  },
  {
   "cell_type": "code",
   "execution_count": 13,
   "id": "6215175f-40bc-4401-97f0-95604ca1ac58",
   "metadata": {},
   "outputs": [],
   "source": [
    "!mkdir -p mallet/"
   ]
  },
  {
   "cell_type": "code",
   "execution_count": 1,
   "id": "6cb8ced1-d4ae-4fb6-a436-c1aa5a17e094",
   "metadata": {},
   "outputs": [],
   "source": [
    "#have to swithc between pycistopic_polars and scenicplus kernel here \n",
    "import os\n",
    "os.chdir(\"/tscc/projects/ps-gaultonlab/projects/npod1/cellranger_output/Multiome/AAB/\")\n",
    "import pycisTopic\n",
    "pycisTopic.__version__\n",
    "fragments_dict = {\n",
    "    \"MM_667\": \"/tscc/projects/ps-gaultonlab/projects/npod1/cellranger_output/Multiome/MM_667/outs/atac_fragments.tsv.gz\"\n",
    "}\n",
    "import pandas as pd\n",
    "cell_data = pd.read_table(\"npod1_AAB_metadata.tsv\", index_col = 0)\n",
    "chromsizes = pd.read_table(\n",
    "    \"http://hgdownload.cse.ucsc.edu/goldenPath/hg38/bigZips/hg38.chrom.sizes\",\n",
    "    header = None,\n",
    "    names = [\"Chromosome\", \"End\"]\n",
    ")\n",
    "chromsizes.insert(1, \"Start\", 0)\n",
    "chromsizes.head()\n",
    "\n",
    "import pickle\n",
    "with open('outs/cistopic_obj.pkl', 'rb') as file:\n",
    "    # Load the pickled object\n",
    "    cistopic_obj = pickle.load(file)"
   ]
  },
  {
   "cell_type": "code",
   "execution_count": null,
   "id": "375554fa-3ce7-44b3-8f29-62db020415b5",
   "metadata": {},
   "outputs": [
    {
     "name": "stdout",
     "output_type": "stream",
     "text": [
      "2025-03-07 18:21:49,793 cisTopic     INFO     Formatting input to corpus\n",
      "2025-03-07 18:21:51,013 cisTopic     INFO     Running model with 2 topics\n",
      "2025-03-07 18:21:51,022 LDAMalletWrapper INFO     Serializing temporary corpus to /tscc/projects/ps-gaultonlab/projects/npod1/cellranger_output/Multiome/AAB/mallet/corpus.txt\n",
      "2025-03-07 18:22:16,898 LDAMalletWrapper INFO     Converting temporary corpus to MALLET format with: /tscc/projects/ps-gaultonlab/abhowell/scenic_data_npod1/Mallet-202108/bin/mallet import-file --preserve-case --keep-sequence --token-regex \\S+ --input /tscc/projects/ps-gaultonlab/projects/npod1/cellranger_output/Multiome/AAB/mallet/corpus.txt --output /tscc/projects/ps-gaultonlab/projects/npod1/cellranger_output/Multiome/AAB/mallet/corpus.mallet\n",
      "2025-03-07 18:22:47,965 LDAMalletWrapper INFO     Training MALLET LDA with: /tscc/projects/ps-gaultonlab/abhowell/scenic_data_npod1/Mallet-202108/bin/mallet train-topics --input /tscc/projects/ps-gaultonlab/projects/npod1/cellranger_output/Multiome/AAB/mallet/corpus.mallet --num-topics 2 --alpha 50 --beta 0.1 --optimize-interval 0 --num-threads 12 --output-state /tscc/projects/ps-gaultonlab/projects/npod1/cellranger_output/Multiome/AAB/mallet/edbd57_state.mallet.gz --output-doc-topics /tscc/projects/ps-gaultonlab/projects/npod1/cellranger_output/Multiome/AAB/mallet/edbd57_doctopics.txt --output-topic-keys /tscc/projects/ps-gaultonlab/projects/npod1/cellranger_output/Multiome/AAB/mallet/edbd57_topickeys.txt --num-iterations 500 --inferencer-filename /tscc/projects/ps-gaultonlab/projects/npod1/cellranger_output/Multiome/AAB/mallet/edbd57_inferencer.mallet --doc-topics-threshold 0.0 --random-seed 555\n"
     ]
    }
   ],
   "source": [
    "#have to swithc between pycistopic_polars and scenicplus kernel here \n",
    "os.environ['MALLET_MEMORY'] = '400G'\n",
    "from pycisTopic.lda_models import run_cgs_models_mallet\n",
    "# Configure path Mallet\n",
    "mallet_path=\"/tscc/projects/ps-gaultonlab/abhowell/scenic_data_npod1/Mallet-202108/bin/mallet\"\n",
    "# Run models\n",
    "models=run_cgs_models_mallet(\n",
    "    cistopic_obj,\n",
    "    n_topics=[2, 5, 10, 15, 20, 25, 30, 35, 40, 45, 50],\n",
    "    n_cpu=12,\n",
    "    n_iter=500,\n",
    "    random_state=555,\n",
    "    alpha=50,\n",
    "    alpha_by_topic=True,\n",
    "    eta=0.1,\n",
    "    eta_by_topic=False,\n",
    "    tmp_path=\"/tscc/projects/ps-gaultonlab/projects/npod1/cellranger_output/Multiome/AAB/mallet\",\n",
    "    save_path=\"/tscc/projects/ps-gaultonlab/projects/npod1/cellranger_output/Multiome/AAB/mallet\",\n",
    "    mallet_path=mallet_path,\n",
    ")"
   ]
  },
  {
   "cell_type": "code",
   "execution_count": null,
   "id": "f4d2aaf4-281f-4c46-bab0-d80fac45a359",
   "metadata": {},
   "outputs": [],
   "source": [
    "pickle.dump(\n",
    "    models,\n",
    "    open(os.path.join(out_dir, \"models.pkl\"), \"wb\")\n",
    ")"
   ]
  },
  {
   "cell_type": "code",
   "execution_count": null,
   "id": "5fd48183-4666-46b5-b3b9-0fa70ae621d1",
   "metadata": {},
   "outputs": [],
   "source": [
    "from pycisTopic.lda_models import evaluate_models\n",
    "model = evaluate_models(\n",
    "    models,\n",
    "    select_model = 40,\n",
    "    return_model = True\n",
    ")"
   ]
  },
  {
   "cell_type": "code",
   "execution_count": null,
   "id": "89b57b5c-8d08-43ba-8207-809156962738",
   "metadata": {},
   "outputs": [],
   "source": [
    "cistopic_obj.add_LDA_model(model)"
   ]
  },
  {
   "cell_type": "code",
   "execution_count": null,
   "id": "66497dc5-e518-4451-a24f-dfd0531cc997",
   "metadata": {},
   "outputs": [],
   "source": [
    "pickle.dump(\n",
    "    cistopic_obj,\n",
    "    open(os.path.join(out_dir, \"cistopic_obj.pkl\"), \"wb\")\n",
    ")"
   ]
  },
  {
   "cell_type": "code",
   "execution_count": null,
   "id": "caa1c904-34f8-45df-802b-c723e3b4f5d8",
   "metadata": {},
   "outputs": [],
   "source": [
    "from pycisTopic.clust_vis import (\n",
    "    find_clusters,\n",
    "    run_umap,\n",
    "    run_tsne,\n",
    "    plot_metadata,\n",
    "    plot_topic,\n",
    "    cell_topic_heatmap\n",
    ")"
   ]
  },
  {
   "cell_type": "code",
   "execution_count": null,
   "id": "848ada84-4849-4a8c-9d98-b36e9b39b580",
   "metadata": {},
   "outputs": [],
   "source": [
    "find_clusters(\n",
    "    cistopic_obj,\n",
    "    target  = 'cell',\n",
    "    k = 10,\n",
    "    res = [0.6, 1.2, 3],\n",
    "    prefix = 'pycisTopic_',\n",
    "    scale = True,\n",
    "    split_pattern = '-'\n",
    ")"
   ]
  },
  {
   "cell_type": "code",
   "execution_count": null,
   "id": "4249e701-4ecf-48ac-b7b5-f7a3df69b4d9",
   "metadata": {},
   "outputs": [],
   "source": [
    "plot_metadata(\n",
    "    cistopic_obj,\n",
    "    reduction_name='UMAP',\n",
    "    variables=['celltype_assignment2', 'pycisTopic_leiden_10_0.6', 'pycisTopic_leiden_10_1.2', 'pycisTopic_leiden_10_3'],\n",
    "    target='cell', num_columns=4,\n",
    "    text_size=10,\n",
    "    dot_size=5)"
   ]
  },
  {
   "cell_type": "code",
   "execution_count": null,
   "id": "930734ad-c527-43c8-9af3-a5a4fcdbc4d4",
   "metadata": {},
   "outputs": [],
   "source": [
    "annot_dict = {}\n",
    "for resolution in [0.6, 1.2, 3]:\n",
    "    annot_dict[f\"pycisTopic_leiden_10_{resolution}\"] = {}\n",
    "    for cluster in set(cistopic_obj.cell_data[f\"pycisTopic_leiden_10_{resolution}\"]):\n",
    "        counts = cistopic_obj.cell_data.loc[\n",
    "            cistopic_obj.cell_data.loc[cistopic_obj.cell_data[f\"pycisTopic_leiden_10_{resolution}\"] == cluster].index,\n",
    "            \"celltype_assignment2\"].value_counts()\n",
    "        annot_dict[f\"pycisTopic_leiden_10_{resolution}\"][cluster] = f\"{counts.index[counts.argmax()]}({cluster})\""
   ]
  },
  {
   "cell_type": "code",
   "execution_count": null,
   "id": "7bece8c2-3491-4dfa-8ee4-ffcf8bb724bf",
   "metadata": {},
   "outputs": [],
   "source": [
    "for resolution in [0.6, 1.2, 3]:\n",
    "    cistopic_obj.cell_data[f'pycisTopic_leiden_10_{resolution}'] = [\n",
    "        annot_dict[f'pycisTopic_leiden_10_{resolution}'][x] for x in cistopic_obj.cell_data[f'pycisTopic_leiden_10_{resolution}'].tolist()\n",
    "    ]"
   ]
  },
  {
   "cell_type": "code",
   "execution_count": null,
   "id": "48097bdf-a130-48aa-ab2e-3e8eb442abe9",
   "metadata": {},
   "outputs": [],
   "source": [
    "plot_metadata(\n",
    "    cistopic_obj,\n",
    "    reduction_name='UMAP',\n",
    "    variables=['celltype_assignment2', 'pycisTopic_leiden_10_0.6', 'pycisTopic_leiden_10_1.2', 'pycisTopic_leiden_10_3'],\n",
    "    target='cell', num_columns=4,\n",
    "    text_size=10,\n",
    "    dot_size=5)"
   ]
  },
  {
   "cell_type": "code",
   "execution_count": null,
   "id": "40c50242-6057-4d96-823d-1845d848fc8c",
   "metadata": {},
   "outputs": [],
   "source": [
    "plot_topic(\n",
    "    cistopic_obj,\n",
    "    reduction_name = 'UMAP',\n",
    "    target = 'cell',\n",
    "    num_columns=5\n",
    ")"
   ]
  },
  {
   "cell_type": "code",
   "execution_count": null,
   "id": "85d2f23d-8e7e-4fb8-8df2-7041ab403a78",
   "metadata": {},
   "outputs": [],
   "source": [
    "from pycisTopic.topic_binarization import binarize_topics"
   ]
  },
  {
   "cell_type": "code",
   "execution_count": null,
   "id": "6dea9c43-8678-4e66-9227-ada6a243c56e",
   "metadata": {},
   "outputs": [],
   "source": [
    "region_bin_topics_top_3k = binarize_topics(\n",
    "    cistopic_obj, method='ntop', ntop = 3_000,\n",
    "    plot=True, num_columns=5\n",
    ")"
   ]
  },
  {
   "cell_type": "code",
   "execution_count": null,
   "id": "12378ad5-18b0-4c96-a084-492a1605897e",
   "metadata": {},
   "outputs": [],
   "source": [
    "region_bin_topics_otsu = binarize_topics(\n",
    "    cistopic_obj, method='otsu',\n",
    "    plot=True, num_columns=5\n",
    ")"
   ]
  },
  {
   "cell_type": "code",
   "execution_count": null,
   "id": "d0cfcfff-a25a-41f2-9ee1-ef50e079c873",
   "metadata": {},
   "outputs": [],
   "source": [
    "binarized_cell_topic = binarize_topics(\n",
    "    cistopic_obj,\n",
    "    target='cell',\n",
    "    method='li',\n",
    "    plot=True,\n",
    "    num_columns=5, nbins=100)"
   ]
  },
  {
   "cell_type": "code",
   "execution_count": null,
   "id": "83f45b14-9a45-406f-970e-a1173f475d97",
   "metadata": {},
   "outputs": [],
   "source": [
    "from pycisTopic.topic_qc import compute_topic_metrics, plot_topic_qc, topic_annotation\n",
    "import matplotlib.pyplot as plt\n",
    "from pycisTopic.utils import fig2img"
   ]
  },
  {
   "cell_type": "code",
   "execution_count": null,
   "id": "a7236017-c953-419f-a4bc-ba9235bf46ec",
   "metadata": {},
   "outputs": [],
   "source": [
    "topic_qc_metrics = compute_topic_metrics(cistopic_obj)"
   ]
  },
  {
   "cell_type": "code",
   "execution_count": null,
   "id": "5a13d3c5-4f0d-4864-9527-be10b2a25cc5",
   "metadata": {},
   "outputs": [],
   "source": [
    "fig_dict={}\n",
    "fig_dict['CoherenceVSAssignments']=plot_topic_qc(topic_qc_metrics, var_x='Coherence', var_y='Log10_Assignments', var_color='Gini_index', plot=False, return_fig=True)\n",
    "fig_dict['AssignmentsVSCells_in_bin']=plot_topic_qc(topic_qc_metrics, var_x='Log10_Assignments', var_y='Cells_in_binarized_topic', var_color='Gini_index', plot=False, return_fig=True)\n",
    "fig_dict['CoherenceVSCells_in_bin']=plot_topic_qc(topic_qc_metrics, var_x='Coherence', var_y='Cells_in_binarized_topic', var_color='Gini_index', plot=False, return_fig=True)\n",
    "fig_dict['CoherenceVSRegions_in_bin']=plot_topic_qc(topic_qc_metrics, var_x='Coherence', var_y='Regions_in_binarized_topic', var_color='Gini_index', plot=False, return_fig=True)\n",
    "fig_dict['CoherenceVSMarginal_dist']=plot_topic_qc(topic_qc_metrics, var_x='Coherence', var_y='Marginal_topic_dist', var_color='Gini_index', plot=False, return_fig=True)\n",
    "fig_dict['CoherenceVSGini_index']=plot_topic_qc(topic_qc_metrics, var_x='Coherence', var_y='Gini_index', var_color='Gini_index', plot=False, return_fig=True)"
   ]
  },
  {
   "cell_type": "code",
   "execution_count": null,
   "id": "140a3a8c-b71c-41bc-a741-8b640d7ebefa",
   "metadata": {},
   "outputs": [],
   "source": [
    "# Plot topic stats in one figure\n",
    "fig=plt.figure(figsize=(40, 43))\n",
    "i = 1\n",
    "for fig_ in fig_dict.keys():\n",
    "    plt.subplot(2, 3, i)\n",
    "    img = fig2img(fig_dict[fig_]) #To convert figures to png to plot together, see .utils.py. This converts the figure to png.\n",
    "    plt.imshow(img)\n",
    "    plt.axis('off')\n",
    "    i += 1\n",
    "plt.subplots_adjust(wspace=0, hspace=-0.70)\n",
    "plt.show()"
   ]
  },
  {
   "cell_type": "code",
   "execution_count": null,
   "id": "f7abb103-e9e5-455d-aaeb-377f19c23bfe",
   "metadata": {},
   "outputs": [],
   "source": [
    "topic_annot = topic_annotation(\n",
    "    cistopic_obj,\n",
    "    annot_var='celltype_assignment2',\n",
    "    binarized_cell_topic=binarized_cell_topic,\n",
    "    general_topic_thr = 0.2\n",
    ")"
   ]
  },
  {
   "cell_type": "code",
   "execution_count": null,
   "id": "07479eb1-852c-4ee1-b481-ddd1011cff7c",
   "metadata": {},
   "outputs": [],
   "source": [
    "from pycisTopic.diff_features import (\n",
    "    impute_accessibility,\n",
    "    normalize_scores,\n",
    "    find_highly_variable_features,\n",
    "    find_diff_features\n",
    ")\n",
    "import numpy as np"
   ]
  },
  {
   "cell_type": "code",
   "execution_count": null,
   "id": "0c59c9e1-26f1-4ebf-aa87-e0830f8dfa22",
   "metadata": {},
   "outputs": [],
   "source": [
    "imputed_acc_obj = impute_accessibility(\n",
    "    cistopic_obj,\n",
    "    selected_cells=None,\n",
    "    selected_regions=None,\n",
    "    scale_factor=10**6\n",
    ")"
   ]
  },
  {
   "cell_type": "code",
   "execution_count": null,
   "id": "5f4f0aba-c17d-4668-96df-894c1281af29",
   "metadata": {},
   "outputs": [],
   "source": [
    "normalized_imputed_acc_obj = normalize_scores(imputed_acc_obj, scale_factor=10**4)\n"
   ]
  },
  {
   "cell_type": "code",
   "execution_count": null,
   "id": "4f4931e2-e6a8-4cbf-9719-832935dfd258",
   "metadata": {},
   "outputs": [],
   "source": [
    "variable_regions = find_highly_variable_features(\n",
    "    normalized_imputed_acc_obj,\n",
    "    min_disp = 0.05,\n",
    "    min_mean = 0.0125,\n",
    "    max_mean = 3,\n",
    "    max_disp = np.inf,\n",
    "    n_bins=20,\n",
    "    n_top_features=None,\n",
    "    plot=True\n",
    ")"
   ]
  },
  {
   "cell_type": "code",
   "execution_count": null,
   "id": "ffe76f44-be33-4c34-b37f-df44511e8eb4",
   "metadata": {},
   "outputs": [],
   "source": [
    "markers_dict= find_diff_features(\n",
    "    cistopic_obj,\n",
    "    imputed_acc_obj,\n",
    "    variable='celltype_assignment2',\n",
    "    var_features=variable_regions,\n",
    "    contrasts=None,\n",
    "    adjpval_thr=0.05,\n",
    "    log2fc_thr=np.log2(1.5),\n",
    "    n_cpu=5,\n",
    "    _temp_dir='/tmp',\n",
    "    split_pattern = '-'\n",
    ")"
   ]
  },
  {
   "cell_type": "code",
   "execution_count": null,
   "id": "65857e41-8d2f-44e7-919d-8b0fa23866bd",
   "metadata": {},
   "outputs": [],
   "source": [
    "from pycisTopic.clust_vis import plot_imputed_features"
   ]
  },
  {
   "cell_type": "code",
   "execution_count": null,
   "id": "1a1c68f3-efab-428e-bd50-a91264fd18f7",
   "metadata": {},
   "outputs": [],
   "source": [
    "#threw an error when I tried to include Alpha because if you run markers_dict[\"Alpha\"] there are no results\n",
    "#you can fix this by changing features list\n",
    "#features=[markers_dict[x].index.tolist()[0] for x in ['Beta', 'T_cells']],\n",
    "\n",
    "#markers_dict[\"Beta\"]"
   ]
  },
  {
   "cell_type": "code",
   "execution_count": null,
   "id": "3f6dd72b-1489-4c0d-96c2-3a0fba5ef24c",
   "metadata": {},
   "outputs": [],
   "source": [
    "#plot_imputed_features(\n",
    "#    cistopic_obj,\n",
    "#    reduction_name='UMAP',\n",
    "#    imputed_data=imputed_acc_obj,\n",
    "#    features=[markers_dict[x].index.tolist()[0] for x in ['Alpha', 'T_cells']],\n",
    "#    scale=False,\n",
    "#    num_columns=1\n",
    "#)"
   ]
  },
  {
   "cell_type": "code",
   "execution_count": null,
   "id": "d976946b-2370-47d2-994f-2ece34440218",
   "metadata": {},
   "outputs": [],
   "source": [
    "print(\"Number of DARs found:\")\n",
    "print(\"---------------------\")\n",
    "for x in markers_dict:\n",
    "    print(f\"  {x}: {len(markers_dict[x])}\")"
   ]
  },
  {
   "cell_type": "code",
   "execution_count": null,
   "id": "c3cf0ca0-816d-4313-a008-05071e705cf2",
   "metadata": {},
   "outputs": [],
   "source": [
    "os.makedirs(os.path.join(out_dir, \"region_sets\"), exist_ok = True)\n",
    "os.makedirs(os.path.join(out_dir, \"region_sets\", \"Topics_otsu\"), exist_ok = True)\n",
    "os.makedirs(os.path.join(out_dir, \"region_sets\", \"Topics_top_3k\"), exist_ok = True)\n",
    "os.makedirs(os.path.join(out_dir, \"region_sets\", \"DARs_cell_type\"), exist_ok = True)"
   ]
  },
  {
   "cell_type": "code",
   "execution_count": null,
   "id": "48a0b0dd-67f6-448c-bcec-8d7c2a6c7bc7",
   "metadata": {},
   "outputs": [],
   "source": [
    "from pycisTopic.utils import region_names_to_coordinates"
   ]
  },
  {
   "cell_type": "code",
   "execution_count": null,
   "id": "535244ef-cd5c-4e6c-b32a-eb69acaee71b",
   "metadata": {},
   "outputs": [],
   "source": [
    "for topic in region_bin_topics_otsu:\n",
    "    region_names_to_coordinates(\n",
    "        region_bin_topics_otsu[topic].index\n",
    "    ).sort_values(\n",
    "        [\"Chromosome\", \"Start\", \"End\"]\n",
    "    ).to_csv(\n",
    "        os.path.join(out_dir, \"region_sets\", \"Topics_otsu\", f\"{topic}.bed\"),\n",
    "        sep = \"\\t\",\n",
    "        header = False, index = False\n",
    "    )"
   ]
  },
  {
   "cell_type": "code",
   "execution_count": null,
   "id": "40295557-8fc0-49b6-aa57-f95ac9315adb",
   "metadata": {},
   "outputs": [],
   "source": [
    "for topic in region_bin_topics_top_3k:\n",
    "    region_names_to_coordinates(\n",
    "        region_bin_topics_top_3k[topic].index\n",
    "    ).sort_values(\n",
    "        [\"Chromosome\", \"Start\", \"End\"]\n",
    "    ).to_csv(\n",
    "        os.path.join(out_dir, \"region_sets\", \"Topics_top_3k\", f\"{topic}.bed\"),\n",
    "        sep = \"\\t\",\n",
    "        header = False, index = False\n",
    "    )"
   ]
  },
  {
   "cell_type": "code",
   "execution_count": null,
   "id": "4e52d6be-bd12-4418-99ff-39eaaf481868",
   "metadata": {},
   "outputs": [],
   "source": [
    "for cell_type in markers_dict:\n",
    "    region_names_to_coordinates(\n",
    "        markers_dict[cell_type].index\n",
    "    ).sort_values(\n",
    "        [\"Chromosome\", \"Start\", \"End\"]\n",
    "    ).to_csv(\n",
    "        os.path.join(out_dir, \"region_sets\", \"DARs_cell_type\", f\"{cell_type}.bed\"),\n",
    "        sep = \"\\t\",\n",
    "        header = False, index = False\n",
    "    )"
   ]
  },
  {
   "cell_type": "code",
   "execution_count": null,
   "id": "4ff9fe96-e12d-43ae-a8a4-d4be91db4a06",
   "metadata": {},
   "outputs": [],
   "source": [
    "import pyranges as pr\n",
    "from pycisTopic.gene_activity import get_gene_activity"
   ]
  },
  {
   "cell_type": "code",
   "execution_count": null,
   "id": "1b634c9a-3f54-402b-b33e-d8b12af2d09b",
   "metadata": {},
   "outputs": [],
   "source": [
    "chromsizes = pd.read_table(\"/tscc/projects/ps-gaultonlab/abhowell/scenic_data_npod1/qc/hg38.chrom_sizes_and_alias.tsv\")\n",
    "chromsizes"
   ]
  },
  {
   "cell_type": "code",
   "execution_count": null,
   "id": "71c9d228-9678-491c-a80e-b0f4e7dc142f",
   "metadata": {},
   "outputs": [],
   "source": [
    "chromsizes.rename({\"# ucsc\": \"Chromosome\", \"length\": \"End\"}, axis = 1, inplace = True)\n",
    "chromsizes[\"Start\"] = 0\n",
    "chromsizes = pr.PyRanges(chromsizes[[\"Chromosome\", \"Start\", \"End\"]])"
   ]
  },
  {
   "cell_type": "code",
   "execution_count": null,
   "id": "aff33a14-7f1a-44a6-869a-8f40dd68cf48",
   "metadata": {},
   "outputs": [],
   "source": [
    "pr_annotation = pd.read_table(\n",
    "        os.path.join(\"/tscc/projects/ps-gaultonlab/abhowell/scenic_data_npod1/qc/tss.bed\")\n",
    "    ).rename(\n",
    "        {\"Name\": \"Gene\", \"# Chromosome\": \"Chromosome\"}, axis = 1)\n",
    "pr_annotation[\"Transcription_Start_Site\"] = pr_annotation[\"Start\"]\n",
    "pr_annotation = pr.PyRanges(pr_annotation)\n",
    "pr_annotation"
   ]
  },
  {
   "cell_type": "code",
   "execution_count": null,
   "id": "b25f50d9-6d15-415f-908b-1f17bfe45b7a",
   "metadata": {},
   "outputs": [],
   "source": [
    "gene_act, weigths = get_gene_activity(\n",
    "    imputed_acc_obj,\n",
    "    pr_annotation,\n",
    "    chromsizes,\n",
    "    use_gene_boundaries=True, # Whether to use the whole search space or stop when encountering another gene\n",
    "    upstream=[1000, 100000], # Search space upstream. The minimum means that even if there is a gene right next to it\n",
    "                             # these bp will be taken (1kbp here)\n",
    "    downstream=[1000,100000], # Search space downstream\n",
    "    distance_weight=True, # Whether to add a distance weight (an exponential function, the weight will decrease with distance)\n",
    "    decay_rate=1, # Exponent for the distance exponential funciton (the higher the faster will be the decrease)\n",
    "    extend_gene_body_upstream=10000, # Number of bp upstream immune to the distance weight (their value will be maximum for\n",
    "                          #this weight)\n",
    "    extend_gene_body_downstream=500, # Number of bp downstream immune to the distance weight\n",
    "    gene_size_weight=False, # Whether to add a weights based on the length of the gene\n",
    "    gene_size_scale_factor='median', # Dividend to calculate the gene size weigth. Default is the median value of all genes\n",
    "                          #in the genome\n",
    "    remove_promoters=False, # Whether to remove promoters when computing gene activity scores\n",
    "    average_scores=True, # Whether to divide by the total number of region assigned to a gene when calculating the gene\n",
    "                          #activity score\n",
    "    scale_factor=1, # Value to multiply for the final gene activity matrix\n",
    "    extend_tss=[10,10], # Space to consider a promoter\n",
    "    gini_weight = True, # Whether to add a gini index weigth. The more unique the region is, the higher this weight will be\n",
    "    return_weights= True, # Whether to return the final weights\n",
    "    project='Gene_activity') # Project name for the gene activity object"
   ]
  },
  {
   "cell_type": "code",
   "execution_count": null,
   "id": "96e613b6-d167-40a5-8f66-7ac390d50380",
   "metadata": {},
   "outputs": [],
   "source": [
    "DAG_markers_dict= find_diff_features(\n",
    "    cistopic_obj,\n",
    "    gene_act,\n",
    "    variable='celltype_assignment2',\n",
    "    var_features=None,\n",
    "    contrasts=None,\n",
    "    adjpval_thr=0.05,\n",
    "    log2fc_thr=np.log2(1.5),\n",
    "    n_cpu=5,\n",
    "    _temp_dir='/tmp',\n",
    "    split_pattern = '-')"
   ]
  },
  {
   "cell_type": "code",
   "execution_count": null,
   "id": "7a795f4e-6807-4d8e-b7c8-61da1e24745d",
   "metadata": {},
   "outputs": [],
   "source": [
    "print(\"Number of DAGs found:\")\n",
    "print(\"---------------------\")\n",
    "for x in markers_dict:\n",
    "    print(f\"  {x}: {len(DAG_markers_dict[x])}\")"
   ]
  },
  {
   "cell_type": "code",
   "execution_count": null,
   "id": "b10dca09-98ed-4748-8043-67f2b273ea17",
   "metadata": {},
   "outputs": [],
   "source": [
    "#leaving off just before \"Label Transfer\" step"
   ]
  },
  {
   "cell_type": "code",
   "execution_count": null,
   "id": "e262b86b-cc3b-4087-92ea-6f550d249491",
   "metadata": {},
   "outputs": [],
   "source": [
    "import scanpy as sc"
   ]
  },
  {
   "cell_type": "code",
   "execution_count": null,
   "id": "9df198aa-b318-453f-8be2-5468af014a2d",
   "metadata": {},
   "outputs": [],
   "source": [
    "#adata = sc.read_10x_mtx(\n",
    "#    \"/tscc/projects/ps-gaultonlab/projects/npod1/cellranger_output/Multiome/MM_661/outs/filtered_feature_bc_matrix/\",\n",
    "#    var_names = \"gene_symbols\"\n",
    "#)"
   ]
  },
  {
   "cell_type": "code",
   "execution_count": null,
   "id": "66cdacac-c5a4-4623-ad5f-8fb367f51b47",
   "metadata": {},
   "outputs": [],
   "source": [
    "adata.var_names_make_unique()"
   ]
  },
  {
   "cell_type": "code",
   "execution_count": null,
   "id": "7963a31b-c26d-4362-bd38-322f39e6ae13",
   "metadata": {},
   "outputs": [],
   "source": [
    "import pandas as pd\n",
    "cell_data = pd.read_table(\"/tscc/projects/ps-gaultonlab/projects/npod1/cellranger_output/Multiome/MM_661/npod1_MM_661_metadata.tsv\", index_col = 0)\n",
    "cell_data.head()"
   ]
  },
  {
   "cell_type": "code",
   "execution_count": null,
   "id": "c9e10403-02c9-422a-b5ae-b0937aa4cbf7",
   "metadata": {},
   "outputs": [],
   "source": [
    "cell_data.index"
   ]
  },
  {
   "cell_type": "code",
   "execution_count": null,
   "id": "94a892ab-b2b4-44c8-91de-dd34b0a1e774",
   "metadata": {},
   "outputs": [],
   "source": [
    "adata.obs_names"
   ]
  },
  {
   "cell_type": "code",
   "execution_count": null,
   "id": "e2c1c6f6-fee6-4260-aeee-924ab19aacb0",
   "metadata": {},
   "outputs": [],
   "source": [
    "adata = adata[list(set(adata.obs_names) & set(cell_data.index))].copy()"
   ]
  },
  {
   "cell_type": "code",
   "execution_count": null,
   "id": "8a56e9a4-a35a-4ac0-8193-3ab6e87ba2b4",
   "metadata": {},
   "outputs": [],
   "source": [
    "adata.obs = cell_data.loc[adata.obs_names]\n"
   ]
  },
  {
   "cell_type": "code",
   "execution_count": null,
   "id": "d643a4a8-af68-4768-9a2e-01177c29f97e",
   "metadata": {},
   "outputs": [],
   "source": [
    "adata.var[\"mt\"] = adata.var_names.str.startswith(\"MT-\")\n",
    "sc.pp.calculate_qc_metrics(\n",
    "    adata, qc_vars=[\"mt\"], percent_top=None, log1p=False, inplace=True\n",
    ")"
   ]
  },
  {
   "cell_type": "code",
   "execution_count": null,
   "id": "f93ca294-9968-4b84-9a73-c874395b6906",
   "metadata": {},
   "outputs": [],
   "source": [
    "adata.raw = adata\n",
    "sc.pp.normalize_total(adata, target_sum=1e4)\n",
    "sc.pp.log1p(adata)\n",
    "sc.pp.highly_variable_genes(adata, min_mean=0.0125, max_mean=3, min_disp=0.5)\n",
    "adata = adata[:, adata.var.highly_variable]\n",
    "sc.pp.scale(adata, max_value=10)"
   ]
  },
  {
   "cell_type": "code",
   "execution_count": null,
   "id": "2a81415e-5290-4ee3-a1f9-9759e0f9e8bb",
   "metadata": {},
   "outputs": [],
   "source": [
    "sc.tl.pca(adata)\n",
    "sc.pl.pca(adata, color = \"celltype_assignment2\")"
   ]
  },
  {
   "cell_type": "code",
   "execution_count": null,
   "id": "66a9e07d-905e-41af-bc36-0ec4fbf7252f",
   "metadata": {},
   "outputs": [],
   "source": [
    "import os\n",
    "os.chdir(\"/tscc/projects/ps-gaultonlab/projects/npod1/cellranger_output/Multiome/MM_661\")\n",
    "adata.write(\"adata.h5ad\")"
   ]
  },
  {
   "cell_type": "code",
   "execution_count": null,
   "id": "5506eb41-7966-4bfc-a094-b3c81eddbba3",
   "metadata": {},
   "outputs": [],
   "source": [
    "#run on tscc\n",
    "#module load bedtools2\n",
    "#cd /tscc/projects/ps-gaultonlab/projects/npod1/cellranger_output/Multiome/MM_662/outs\n",
    "#/tscc/nfs/home/abhowell/create_cisTarget_databases/create_fasta_with_padded_bg_from_bed.sh /tscc/nfs/home/abhowell/cistarget_genomes/hg38.fa /tscc/nfs/home/abhowell/cistarget_genomes/hg38.chrom.sizes /tscc/projects/ps-gaultonlab/projects/npod1/cellranger_output/Multiome/MM_662/outs/consensus_peak_calling/consensus_regions.bed MM_662.with_1kb_bg_padding.fa 1000 yes"
   ]
  },
  {
   "cell_type": "code",
   "execution_count": null,
   "id": "9c502bfa-7fcf-407a-9845-8c8faa429210",
   "metadata": {},
   "outputs": [],
   "source": [
    "#ls aertslab_motif_colleciton/v10nr_clust_public/singletons > motifs.txt\n",
    "#mv motifs.txt cistarget_genomes/\n",
    "#conda activate scenicplus\n",
    "#conda install -c conda-forge python-flatbuffers\n",
    "#have to modify line 301 to cluster_buster_path\n",
    "#/tscc/nfs/home/abhowell/create_cisTarget_databases/create_cistarget_motif_databases.py -f /tscc/projects/ps-gaultonlab/projects/npod1/cellranger_output/Multiome/MM_662/outs/MM_662.with_1kb_bg_padding.fa -M /tscc/nfs/home/abhowell/aertslab_motif_colleciton/v10nr_clust_public/singletons -m /tscc/nfs/home/abhowell/cistarget_genomes/motifs.txt -o /tscc/projects/ps-gaultonlab/projects/npod1/cellranger_output/Multiome/MM_662/outs --bgpadding 1000 -t 20"
   ]
  },
  {
   "cell_type": "code",
   "execution_count": null,
   "id": "27fe59b5-9cda-413a-95f9-b9858037bb1e",
   "metadata": {},
   "outputs": [],
   "source": [
    "#import os\n",
    "#os.chdir(\"/tscc/projects/ps-gaultonlab/projects/npod1/cellranger_output/Multiome/MM_664/outs/\")"
   ]
  },
  {
   "cell_type": "code",
   "execution_count": null,
   "id": "97ebf24a-cd89-4f50-a125-dc8ef1c85863",
   "metadata": {},
   "outputs": [],
   "source": [
    "#import mudata\n",
    "#scplus_mdata = mudata.read(\"scplusmdata.h5mu\")"
   ]
  },
  {
   "cell_type": "code",
   "execution_count": null,
   "id": "7c8edfc1-6f73-491b-aa24-e32bb113a696",
   "metadata": {},
   "outputs": [],
   "source": [
    "#scplus_mdata.uns[\"direct_e_regulon_metadata\"]"
   ]
  },
  {
   "cell_type": "code",
   "execution_count": null,
   "id": "ce8b545e-e833-4ecf-851c-40a6aa7c6bdd",
   "metadata": {},
   "outputs": [],
   "source": [
    "#scplus_mdata.uns[\"extended_e_regulon_metadata\"]\n"
   ]
  },
  {
   "cell_type": "code",
   "execution_count": null,
   "id": "2afec876-053b-4e69-822f-3f75fa28ad1d",
   "metadata": {},
   "outputs": [],
   "source": [
    "#import scanpy as sc\n",
    "#import anndata\n",
    "#eRegulon_gene_AUC = anndata.concat(\n",
    "#    [scplus_mdata[\"direct_gene_based_AUC\"], scplus_mdata[\"extended_gene_based_AUC\"]],\n",
    "#    axis = 1,\n",
    "#)\n",
    "\n",
    "#eRegulon_gene_AUC.obs = scplus_mdata.obs.loc[eRegulon_gene_AUC.obs_names]\n",
    "#sc.pp.neighbors(eRegulon_gene_AUC, use_rep = \"X\")\n",
    "#sc.tl.umap(eRegulon_gene_AUC)\n",
    "#sc.pl.umap(eRegulon_gene_AUC, color = \"scRNA_counts:celltype_assignment2\")"
   ]
  },
  {
   "cell_type": "code",
   "execution_count": null,
   "id": "2a150c69-fbe4-4e16-afe5-2227c99a9432",
   "metadata": {},
   "outputs": [],
   "source": [
    "#from scenicplus.plotting.dotplot import heatmap_dotplot\n",
    "#heatmap_dotplot(\n",
    "#    scplus_mudata = scplus_mdata,\n",
    "#    color_modality = \"direct_gene_based_AUC\",\n",
    "#    size_modality = \"direct_region_based_AUC\",\n",
    "#    group_variable = \"scRNA_counts:celltype_assignment2\",\n",
    "#    eRegulon_metadata_key = \"direct_e_regulon_metadata\",\n",
    "#    color_feature_key = \"Gene_signature_name\",\n",
    "#    size_feature_key = \"Region_signature_name\",\n",
    "#    feature_name_key = \"eRegulon_name\",\n",
    "#    sort_data_by = \"direct_gene_based_AUC\",\n",
    "#    orientation = \"horizontal\",\n",
    "#    figsize = (16, 5)\n",
    "#)"
   ]
  }
 ],
 "metadata": {
  "kernelspec": {
   "display_name": "scenicplus",
   "language": "python",
   "name": "scenicplus"
  },
  "language_info": {
   "codemirror_mode": {
    "name": "ipython",
    "version": 3
   },
   "file_extension": ".py",
   "mimetype": "text/x-python",
   "name": "python",
   "nbconvert_exporter": "python",
   "pygments_lexer": "ipython3",
   "version": "3.11.8"
  }
 },
 "nbformat": 4,
 "nbformat_minor": 5
}
