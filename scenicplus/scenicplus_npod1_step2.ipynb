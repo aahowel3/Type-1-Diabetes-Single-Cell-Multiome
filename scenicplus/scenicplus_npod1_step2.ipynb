{
 "cells": [
  {
   "cell_type": "code",
   "execution_count": null,
   "id": "1810263c-3b98-45b0-8773-e3588a0667fb",
   "metadata": {},
   "outputs": [],
   "source": [
    "#step 2 \n",
    "#/nfs/lab/projects/nPOD/cellranger_output/Multiome/MM_660/outs"
   ]
  },
  {
   "cell_type": "code",
   "execution_count": 15,
   "id": "f13165b1-1e70-4883-84e4-f966e13a64cb",
   "metadata": {},
   "outputs": [
    {
     "data": {
      "text/plain": [
       "'/tscc/nfs/home/abhowell/scenic_scripts'"
      ]
     },
     "execution_count": 15,
     "metadata": {},
     "output_type": "execute_result"
    }
   ],
   "source": [
    "import os\n",
    "os.getcwd()"
   ]
  },
  {
   "cell_type": "code",
   "execution_count": 1,
   "id": "6bebed38-1ffb-43a6-b2a3-d5e3367b8deb",
   "metadata": {},
   "outputs": [],
   "source": [
    "import scanpy as sc"
   ]
  },
  {
   "cell_type": "code",
   "execution_count": 2,
   "id": "541feb1f-887f-4f10-a241-4a66b0622138",
   "metadata": {},
   "outputs": [],
   "source": [
    "adata = sc.read_10x_mtx(\n",
    "    \"/tscc/projects/ps-gaultonlab/abhowell/scenic_data_npod1/filtered_feature_bc_matrix\",\n",
    "    var_names = \"gene_symbols\"\n",
    ")"
   ]
  },
  {
   "cell_type": "code",
   "execution_count": 3,
   "id": "8efd435c-8afb-46d3-ad41-3714958982ad",
   "metadata": {},
   "outputs": [
    {
     "data": {
      "text/plain": [
       "AnnData object with n_obs × n_vars = 2064 × 36601\n",
       "    var: 'gene_ids', 'feature_types'"
      ]
     },
     "execution_count": 3,
     "metadata": {},
     "output_type": "execute_result"
    }
   ],
   "source": [
    "adata"
   ]
  },
  {
   "cell_type": "code",
   "execution_count": 4,
   "id": "0a59fc4b-4b60-44f7-8c91-dbe6b69d1cd4",
   "metadata": {},
   "outputs": [],
   "source": [
    "adata.var_names_make_unique()\n"
   ]
  },
  {
   "cell_type": "code",
   "execution_count": 5,
   "id": "57ded22e-8083-47b5-809e-9bd5ecf79899",
   "metadata": {},
   "outputs": [
    {
     "data": {
      "text/plain": [
       "AnnData object with n_obs × n_vars = 2064 × 36601\n",
       "    var: 'gene_ids', 'feature_types'"
      ]
     },
     "execution_count": 5,
     "metadata": {},
     "output_type": "execute_result"
    }
   ],
   "source": [
    "adata"
   ]
  },
  {
   "cell_type": "code",
   "execution_count": 6,
   "id": "857f4549-9bbe-4227-8f7e-ca5771f8cd18",
   "metadata": {},
   "outputs": [
    {
     "data": {
      "text/html": [
       "<div>\n",
       "<style scoped>\n",
       "    .dataframe tbody tr th:only-of-type {\n",
       "        vertical-align: middle;\n",
       "    }\n",
       "\n",
       "    .dataframe tbody tr th {\n",
       "        vertical-align: top;\n",
       "    }\n",
       "\n",
       "    .dataframe thead th {\n",
       "        text-align: right;\n",
       "    }\n",
       "</style>\n",
       "<table border=\"1\" class=\"dataframe\">\n",
       "  <thead>\n",
       "    <tr style=\"text-align: right;\">\n",
       "      <th></th>\n",
       "      <th>orig.ident</th>\n",
       "      <th>nCount_RNA</th>\n",
       "      <th>nFeature_RNA</th>\n",
       "      <th>percent.mt</th>\n",
       "      <th>RNA_snn_res.1</th>\n",
       "      <th>seurat_clusters</th>\n",
       "      <th>samples</th>\n",
       "      <th>sex</th>\n",
       "      <th>condition</th>\n",
       "      <th>RNA_snn_res.0.5</th>\n",
       "      <th>celltype_assignment1</th>\n",
       "      <th>SeuratClusters</th>\n",
       "      <th>celltype_assignment2</th>\n",
       "      <th>barcode</th>\n",
       "      <th>nPOD_barcode</th>\n",
       "      <th>CurrentObjLabels</th>\n",
       "      <th>nPOD_ID</th>\n",
       "      <th>technology</th>\n",
       "      <th>nCount_RAW_mtx</th>\n",
       "      <th>nFeature_RAW_mtx</th>\n",
       "    </tr>\n",
       "  </thead>\n",
       "  <tbody>\n",
       "    <tr>\n",
       "      <th>AAACGTACATGTTTGG-1</th>\n",
       "      <td>SeuratProject</td>\n",
       "      <td>2587</td>\n",
       "      <td>1286</td>\n",
       "      <td>0.000000</td>\n",
       "      <td>4</td>\n",
       "      <td>3</td>\n",
       "      <td>MM_660</td>\n",
       "      <td>F</td>\n",
       "      <td>Control</td>\n",
       "      <td>3</td>\n",
       "      <td>Acinar</td>\n",
       "      <td>3</td>\n",
       "      <td>Acinar</td>\n",
       "      <td>AAACGTACATGTTTGG-1</td>\n",
       "      <td>MM_660_AAACGTACATGTTTGG</td>\n",
       "      <td>Acinar_3</td>\n",
       "      <td>multi_6375</td>\n",
       "      <td>multiome</td>\n",
       "      <td>2946</td>\n",
       "      <td>1465</td>\n",
       "    </tr>\n",
       "    <tr>\n",
       "      <th>AAAGCCGCAATATGGA-1</th>\n",
       "      <td>SeuratProject</td>\n",
       "      <td>1438</td>\n",
       "      <td>1072</td>\n",
       "      <td>0.278164</td>\n",
       "      <td>1</td>\n",
       "      <td>6</td>\n",
       "      <td>MM_660</td>\n",
       "      <td>F</td>\n",
       "      <td>Control</td>\n",
       "      <td>6</td>\n",
       "      <td>Acinar</td>\n",
       "      <td>6</td>\n",
       "      <td>Acinar</td>\n",
       "      <td>AAAGCCGCAATATGGA-1</td>\n",
       "      <td>MM_660_AAAGCCGCAATATGGA</td>\n",
       "      <td>Acinar_4</td>\n",
       "      <td>multi_6375</td>\n",
       "      <td>multiome</td>\n",
       "      <td>1647</td>\n",
       "      <td>1201</td>\n",
       "    </tr>\n",
       "    <tr>\n",
       "      <th>AAAGGAGCAGTCTAGC-1</th>\n",
       "      <td>SeuratProject</td>\n",
       "      <td>6446</td>\n",
       "      <td>2550</td>\n",
       "      <td>0.000000</td>\n",
       "      <td>3</td>\n",
       "      <td>2</td>\n",
       "      <td>MM_660</td>\n",
       "      <td>F</td>\n",
       "      <td>Control</td>\n",
       "      <td>2</td>\n",
       "      <td>Acinar</td>\n",
       "      <td>2</td>\n",
       "      <td>Acinar</td>\n",
       "      <td>AAAGGAGCAGTCTAGC-1</td>\n",
       "      <td>MM_660_AAAGGAGCAGTCTAGC</td>\n",
       "      <td>Acinar1_2_6</td>\n",
       "      <td>multi_6375</td>\n",
       "      <td>multiome</td>\n",
       "      <td>7583</td>\n",
       "      <td>2986</td>\n",
       "    </tr>\n",
       "    <tr>\n",
       "      <th>AACCGGCTCATGGTGT-1</th>\n",
       "      <td>SeuratProject</td>\n",
       "      <td>1418</td>\n",
       "      <td>833</td>\n",
       "      <td>0.493653</td>\n",
       "      <td>6</td>\n",
       "      <td>4</td>\n",
       "      <td>MM_660</td>\n",
       "      <td>F</td>\n",
       "      <td>Control</td>\n",
       "      <td>4</td>\n",
       "      <td>Ductal</td>\n",
       "      <td>4_10</td>\n",
       "      <td>Ductal</td>\n",
       "      <td>AACCGGCTCATGGTGT-1</td>\n",
       "      <td>MM_660_AACCGGCTCATGGTGT</td>\n",
       "      <td>Ductal</td>\n",
       "      <td>multi_6375</td>\n",
       "      <td>multiome</td>\n",
       "      <td>1562</td>\n",
       "      <td>924</td>\n",
       "    </tr>\n",
       "    <tr>\n",
       "      <th>AACCGGCTCCAACTGG-1</th>\n",
       "      <td>SeuratProject</td>\n",
       "      <td>3524</td>\n",
       "      <td>1785</td>\n",
       "      <td>0.000000</td>\n",
       "      <td>6</td>\n",
       "      <td>4</td>\n",
       "      <td>MM_660</td>\n",
       "      <td>F</td>\n",
       "      <td>Control</td>\n",
       "      <td>4</td>\n",
       "      <td>Ductal</td>\n",
       "      <td>4_7</td>\n",
       "      <td>Ductal</td>\n",
       "      <td>AACCGGCTCCAACTGG-1</td>\n",
       "      <td>MM_660_AACCGGCTCCAACTGG</td>\n",
       "      <td>Ductal</td>\n",
       "      <td>multi_6375</td>\n",
       "      <td>multiome</td>\n",
       "      <td>4079</td>\n",
       "      <td>2085</td>\n",
       "    </tr>\n",
       "  </tbody>\n",
       "</table>\n",
       "</div>"
      ],
      "text/plain": [
       "                       orig.ident  nCount_RNA  nFeature_RNA  percent.mt  \\\n",
       "AAACGTACATGTTTGG-1  SeuratProject        2587          1286    0.000000   \n",
       "AAAGCCGCAATATGGA-1  SeuratProject        1438          1072    0.278164   \n",
       "AAAGGAGCAGTCTAGC-1  SeuratProject        6446          2550    0.000000   \n",
       "AACCGGCTCATGGTGT-1  SeuratProject        1418           833    0.493653   \n",
       "AACCGGCTCCAACTGG-1  SeuratProject        3524          1785    0.000000   \n",
       "\n",
       "                    RNA_snn_res.1  seurat_clusters samples sex condition  \\\n",
       "AAACGTACATGTTTGG-1              4                3  MM_660   F   Control   \n",
       "AAAGCCGCAATATGGA-1              1                6  MM_660   F   Control   \n",
       "AAAGGAGCAGTCTAGC-1              3                2  MM_660   F   Control   \n",
       "AACCGGCTCATGGTGT-1              6                4  MM_660   F   Control   \n",
       "AACCGGCTCCAACTGG-1              6                4  MM_660   F   Control   \n",
       "\n",
       "                    RNA_snn_res.0.5 celltype_assignment1 SeuratClusters  \\\n",
       "AAACGTACATGTTTGG-1                3               Acinar              3   \n",
       "AAAGCCGCAATATGGA-1                6               Acinar              6   \n",
       "AAAGGAGCAGTCTAGC-1                2               Acinar              2   \n",
       "AACCGGCTCATGGTGT-1                4               Ductal           4_10   \n",
       "AACCGGCTCCAACTGG-1                4               Ductal            4_7   \n",
       "\n",
       "                   celltype_assignment2             barcode  \\\n",
       "AAACGTACATGTTTGG-1               Acinar  AAACGTACATGTTTGG-1   \n",
       "AAAGCCGCAATATGGA-1               Acinar  AAAGCCGCAATATGGA-1   \n",
       "AAAGGAGCAGTCTAGC-1               Acinar  AAAGGAGCAGTCTAGC-1   \n",
       "AACCGGCTCATGGTGT-1               Ductal  AACCGGCTCATGGTGT-1   \n",
       "AACCGGCTCCAACTGG-1               Ductal  AACCGGCTCCAACTGG-1   \n",
       "\n",
       "                               nPOD_barcode CurrentObjLabels     nPOD_ID  \\\n",
       "AAACGTACATGTTTGG-1  MM_660_AAACGTACATGTTTGG         Acinar_3  multi_6375   \n",
       "AAAGCCGCAATATGGA-1  MM_660_AAAGCCGCAATATGGA         Acinar_4  multi_6375   \n",
       "AAAGGAGCAGTCTAGC-1  MM_660_AAAGGAGCAGTCTAGC      Acinar1_2_6  multi_6375   \n",
       "AACCGGCTCATGGTGT-1  MM_660_AACCGGCTCATGGTGT           Ductal  multi_6375   \n",
       "AACCGGCTCCAACTGG-1  MM_660_AACCGGCTCCAACTGG           Ductal  multi_6375   \n",
       "\n",
       "                   technology  nCount_RAW_mtx  nFeature_RAW_mtx  \n",
       "AAACGTACATGTTTGG-1   multiome            2946              1465  \n",
       "AAAGCCGCAATATGGA-1   multiome            1647              1201  \n",
       "AAAGGAGCAGTCTAGC-1   multiome            7583              2986  \n",
       "AACCGGCTCATGGTGT-1   multiome            1562               924  \n",
       "AACCGGCTCCAACTGG-1   multiome            4079              2085  "
      ]
     },
     "execution_count": 6,
     "metadata": {},
     "output_type": "execute_result"
    }
   ],
   "source": [
    "import pandas as pd\n",
    "cell_data = pd.read_table(\"/tscc/projects/ps-gaultonlab/abhowell/scenic_data_npod1/npod1_metadata.tsv\", index_col = 0)\n",
    "cell_data.head()"
   ]
  },
  {
   "cell_type": "code",
   "execution_count": 7,
   "id": "ef2c6708-7310-43c1-8785-855f2facb025",
   "metadata": {},
   "outputs": [
    {
     "data": {
      "text/plain": [
       "Index(['AAACGTACATGTTTGG-1', 'AAAGCCGCAATATGGA-1', 'AAAGGAGCAGTCTAGC-1',\n",
       "       'AACCGGCTCATGGTGT-1', 'AACCGGCTCCAACTGG-1', 'AACCTCACAAATGCCC-1',\n",
       "       'AACCTCCTCCGCAAGC-1', 'AACCTTAAGCGATAGA-1', 'AACCTTAAGGAGTCTT-1',\n",
       "       'AACGCCCAGGCCGGAA-1',\n",
       "       ...\n",
       "       'TTTAGGATCGTAATCA-1', 'TTTCTTGCAGGGAGGA-1', 'TTTGCATTCAAGCTTA-1',\n",
       "       'TTTGGCTGTCAAGTGC-1', 'TTTGGCTGTCCGTAGG-1', 'TTTGGCTGTGCATTTC-1',\n",
       "       'TTTGGCTGTTCGCTTG-1', 'TTTGTCTAGCTCCTAC-1', 'TTTGTCTAGGTAGCTT-1',\n",
       "       'TTTGTGGCAAGTCGCT-1'],\n",
       "      dtype='object', length=573)"
      ]
     },
     "execution_count": 7,
     "metadata": {},
     "output_type": "execute_result"
    }
   ],
   "source": [
    "cell_data.index"
   ]
  },
  {
   "cell_type": "code",
   "execution_count": 22,
   "id": "d629dc93-51bd-4b30-a689-051c483b7a6e",
   "metadata": {},
   "outputs": [
    {
     "data": {
      "text/plain": [
       "Index(['AAACCAACAAGCTTAT-1', 'AAACCGAAGGATCCGC-1', 'AAACGCGCACCGGTAT-1',\n",
       "       'AAACGTACACACCAAC-1', 'AAACGTACAGCTCAAC-1', 'AAACGTACATGTTTGG-1',\n",
       "       'AAAGCACCAAGGATTA-1', 'AAAGCACCAAGGTCGA-1', 'AAAGCACCATTAAACC-1',\n",
       "       'AAAGCCGCAATATGGA-1',\n",
       "       ...\n",
       "       'TTTGGCTGTGAAACAA-1', 'TTTGGCTGTGCATTTC-1', 'TTTGGCTGTTCGCTTG-1',\n",
       "       'TTTGGTAAGGCCTGGT-1', 'TTTGTCCCAGGACCTT-1', 'TTTGTCTAGCTCAATA-1',\n",
       "       'TTTGTCTAGCTCCTAC-1', 'TTTGTCTAGGTAGCTT-1', 'TTTGTGGCAAGTCGCT-1',\n",
       "       'TTTGTTGGTGTTGTGA-1'],\n",
       "      dtype='object', length=2064)"
      ]
     },
     "execution_count": 22,
     "metadata": {},
     "output_type": "execute_result"
    }
   ],
   "source": [
    "adata.obs_names"
   ]
  },
  {
   "cell_type": "code",
   "execution_count": 8,
   "id": "bdb8f40e-02a2-412e-a7ec-fe31ec2f995d",
   "metadata": {},
   "outputs": [],
   "source": [
    "adata = adata[list(set(adata.obs_names) & set(cell_data.index))].copy()\n"
   ]
  },
  {
   "cell_type": "code",
   "execution_count": 9,
   "id": "9999727c-32f7-486c-b8c4-e498c30d821b",
   "metadata": {},
   "outputs": [],
   "source": [
    "adata.obs = cell_data.loc[adata.obs_names]\n"
   ]
  },
  {
   "cell_type": "code",
   "execution_count": 10,
   "id": "cb70a592-f146-49cc-9480-ec016fd623e7",
   "metadata": {},
   "outputs": [],
   "source": [
    "adata.var[\"mt\"] = adata.var_names.str.startswith(\"MT-\")\n",
    "sc.pp.calculate_qc_metrics(\n",
    "    adata, qc_vars=[\"mt\"], percent_top=None, log1p=False, inplace=True\n",
    ")"
   ]
  },
  {
   "cell_type": "code",
   "execution_count": 11,
   "id": "4b61f5ed-1cc9-469e-92d0-f6c176b5254e",
   "metadata": {},
   "outputs": [
    {
     "data": {
      "text/plain": [
       "AnnData object with n_obs × n_vars = 565 × 36601\n",
       "    obs: 'orig.ident', 'nCount_RNA', 'nFeature_RNA', 'percent.mt', 'RNA_snn_res.1', 'seurat_clusters', 'samples', 'sex', 'condition', 'RNA_snn_res.0.5', 'celltype_assignment1', 'SeuratClusters', 'celltype_assignment2', 'barcode', 'nPOD_barcode', 'CurrentObjLabels', 'nPOD_ID', 'technology', 'nCount_RAW_mtx', 'nFeature_RAW_mtx', 'n_genes_by_counts', 'total_counts', 'total_counts_mt', 'pct_counts_mt'\n",
       "    var: 'gene_ids', 'feature_types', 'mt', 'n_cells_by_counts', 'mean_counts', 'pct_dropout_by_counts', 'total_counts'"
      ]
     },
     "execution_count": 11,
     "metadata": {},
     "output_type": "execute_result"
    }
   ],
   "source": [
    "adata"
   ]
  },
  {
   "cell_type": "code",
   "execution_count": 12,
   "id": "0ed7f426-de97-45c6-a257-06f7fb819f1c",
   "metadata": {},
   "outputs": [
    {
     "name": "stderr",
     "output_type": "stream",
     "text": [
      "/tscc/nfs/home/abhowell/miniconda3/envs/scenicplus/lib/python3.11/site-packages/scanpy/preprocessing/_simple.py:843: UserWarning: Revieved a view of an AnnData. Making a copy.\n",
      "  view_to_actual(adata)\n"
     ]
    }
   ],
   "source": [
    "adata.raw = adata\n",
    "sc.pp.normalize_total(adata, target_sum=1e4)\n",
    "sc.pp.log1p(adata)\n",
    "sc.pp.highly_variable_genes(adata, min_mean=0.0125, max_mean=3, min_disp=0.5)\n",
    "adata = adata[:, adata.var.highly_variable]\n",
    "sc.pp.scale(adata, max_value=10)"
   ]
  },
  {
   "cell_type": "code",
   "execution_count": 29,
   "id": "917841a0-093b-4239-8923-8eb38e1ff038",
   "metadata": {},
   "outputs": [
    {
     "name": "stderr",
     "output_type": "stream",
     "text": [
      "/tscc/nfs/home/abhowell/miniconda3/envs/scenicplus/lib/python3.11/site-packages/scanpy/plotting/_tools/scatterplots.py:378: UserWarning: No data for colormapping provided via 'c'. Parameters 'cmap' will be ignored\n",
      "  cax = scatter(\n"
     ]
    },
    {
     "data": {
      "image/png": "[encoded data removed]",
      "text/plain": [
       "<Figure size 640x480 with 1 Axes>"
      ]
     },
     "metadata": {},
     "output_type": "display_data"
    }
   ],
   "source": [
    "sc.tl.pca(adata)\n",
    "sc.pl.pca(adata, color = \"celltype_assignment2\")"
   ]
  },
  {
   "cell_type": "code",
   "execution_count": 30,
   "id": "28e005ea-a6fe-49f5-8467-9dfe312b4f23",
   "metadata": {},
   "outputs": [],
   "source": [
    "adata.write(\"adata.h5ad\")"
   ]
  },
  {
   "cell_type": "code",
   "execution_count": 37,
   "id": "1dedb2f8-e333-4882-a1c7-3c39b0fb5450",
   "metadata": {},
   "outputs": [
    {
     "name": "stdout",
     "output_type": "stream",
     "text": [
      "/tscc/nfs/home/abhowell/create_cisTarget_databases/create_fasta_with_padded_bg_from_bed.sh: line 55: bedtools: command not found\n",
      "/tscc/nfs/home/abhowell/create_cisTarget_databases/create_fasta_with_padded_bg_from_bed.sh: line 91: bedtools: command not found\n",
      "paste: write error: Broken pipe\n",
      "paste: write error\n"
     ]
    }
   ],
   "source": [
    "#run on tscc\n",
    "#module load bedtools2\n",
    "/tscc/nfs/home/abhowell/create_cisTarget_databases/create_fasta_with_padded_bg_from_bed.sh /tscc/nfs/home/abhowell/cistarget_genomes/hg38.fa /tscc/nfs/home/abhowell/cistarget_genomes/hg38.chrom.sizes /tscc/projects/ps-gaultonlab/abhowell/scenic_data_npod1/outs/consensus_peak_calling/consensus_regions.bed MM_660.with_1kb_bg_padding.fa 1000 yes"
   ]
  },
  {
   "cell_type": "code",
   "execution_count": null,
   "id": "0500783a-97ac-4f14-9e68-2c91e5a031a9",
   "metadata": {},
   "outputs": [],
   "source": [
    "#ls aertslab_motif_colleciton/v10nr_clust_public/singletons > motifs.txt\n",
    "#mv motifs.txt cistarget_genomes/\n",
    "#conda install -c conda-forge python-flatbuffers\n",
    "#have to modify line 301 to cluster_buster_path\n",
    "/tscc/nfs/home/abhowell/create_cisTarget_databases/create_cistarget_motif_databases.py -f /tscc/projects/ps-gaultonlab/abhowell/scenic_data_npod1/MM_660.with_1kb_bg_padding.fa -M /tscc/nfs/home/abhowell/aertslab_motif_colleciton/v10nr_clust_public/singletons -m /tscc/nfs/home/abhowell/cistarget_genomes/motifs.txt -o /tscc/projects/ps-gaultonlab/abhowell/scenic_data_npod1/MM_660 --bgpadding 1000 -t 20"
   ]
  },
  {
   "cell_type": "code",
   "execution_count": null,
   "id": "b16168b2-0be0-4156-800c-305a5d4e0102",
   "metadata": {},
   "outputs": [],
   "source": [
    "##indexing error - you have to delete the Alpha and Lymph BED files that are empty or it will throw an error every time "
   ]
  }
 ],
 "metadata": {
  "kernelspec": {
   "display_name": "scenicplus",
   "language": "python",
   "name": "scenicplus"
  },
  "language_info": {
   "codemirror_mode": {
    "name": "ipython",
    "version": 3
   },
   "file_extension": ".py",
   "mimetype": "text/x-python",
   "name": "python",
   "nbconvert_exporter": "python",
   "pygments_lexer": "ipython3",
   "version": "3.11.8"
  }
 },
 "nbformat": 4,
 "nbformat_minor": 5
}
